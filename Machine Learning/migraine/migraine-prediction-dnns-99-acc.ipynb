{
 "cells": [
  {
   "cell_type": "markdown",
   "metadata": {
    "_cell_guid": "b1076dfc-b9ad-4769-8c92-a6c4dae69d19",
    "_uuid": "8f2839f25d086af736a60e9eeb907d3b93b6e0e5"
   },
   "source": [
    "## Migraine Prediction Using Deep Neural Networks (DNNs)\n",
    "In this notebook, the target is to classify the type of migraine (a type of headache), given a set of features that are extracted from patient's medical records.In our approach, we'll make use of deep neural networks (DNNs) for classification of migraine headache into **7** possible classes."
   ]
  },
  {
   "cell_type": "code",
   "execution_count": 1,
   "metadata": {
    "execution": {
     "iopub.execute_input": "2022-07-17T07:56:39.441087Z",
     "iopub.status.busy": "2022-07-17T07:56:39.440660Z",
     "iopub.status.idle": "2022-07-17T07:56:39.476685Z",
     "shell.execute_reply": "2022-07-17T07:56:39.475668Z",
     "shell.execute_reply.started": "2022-07-17T07:56:39.440998Z"
    }
   },
   "outputs": [
    {
     "name": "stdout",
     "output_type": "stream",
     "text": [
      "/kaggle/input/migraine-classification/data.csv\n"
     ]
    }
   ],
   "source": [
    "import numpy as np # linear algebra\n",
    "import pandas as pd # data processing, CSV file I/O (e.g. pd.read_csv)\n",
    "import os\n",
    "\n",
    "for dirname, _, filenames in os.walk('/kaggle/input'):\n",
    "    for filename in filenames:\n",
    "        print(os.path.join(dirname, filename))"
   ]
  },
  {
   "cell_type": "code",
   "execution_count": 58,
   "metadata": {
    "execution": {
     "iopub.execute_input": "2022-07-17T08:28:20.821799Z",
     "iopub.status.busy": "2022-07-17T08:28:20.821346Z",
     "iopub.status.idle": "2022-07-17T08:28:20.831734Z",
     "shell.execute_reply": "2022-07-17T08:28:20.830813Z",
     "shell.execute_reply.started": "2022-07-17T08:28:20.821768Z"
    }
   },
   "outputs": [],
   "source": [
    "# importing libraries\n",
    "import numpy as np\n",
    "import pandas as pd\n",
    "import seaborn as sns\n",
    "from matplotlib import pyplot as plt\n",
    "from sklearn.model_selection import train_test_split\n",
    "from sklearn.preprocessing import LabelEncoder\n",
    "from sklearn.svm import SVR\n",
    "from sklearn.ensemble import RandomForestClassifier\n",
    "from sklearn.tree import DecisionTreeClassifier\n",
    "from sklearn.neural_network import MLPClassifier\n",
    "from tensorflow.keras.layers import Dense, Conv1D, MaxPooling1D, Activation, Dropout\n",
    "from tensorflow.keras.models import Sequential\n",
    "from tensorflow.keras.callbacks import EarlyStopping\n",
    "from tensorflow.keras.utils import to_categorical\n",
    "from sklearn.metrics import confusion_matrix, classification_report\n",
    "from sklearn.metrics import plot_confusion_matrix, precision_score, recall_score, f1_score"
   ]
  },
  {
   "cell_type": "markdown",
   "metadata": {},
   "source": [
    "## Data Loading\n",
    "The first step is to load dataset into memory. The dataset is already been provided to us in the form of a table."
   ]
  },
  {
   "cell_type": "code",
   "execution_count": 4,
   "metadata": {
    "execution": {
     "iopub.execute_input": "2022-07-17T07:58:12.911492Z",
     "iopub.status.busy": "2022-07-17T07:58:12.911108Z",
     "iopub.status.idle": "2022-07-17T07:58:12.930614Z",
     "shell.execute_reply": "2022-07-17T07:58:12.929206Z",
     "shell.execute_reply.started": "2022-07-17T07:58:12.911465Z"
    }
   },
   "outputs": [],
   "source": [
    "# loading dataset\n",
    "data = pd.read_csv('../input/migraine-classification/data.csv')"
   ]
  },
  {
   "cell_type": "code",
   "execution_count": 5,
   "metadata": {
    "execution": {
     "iopub.execute_input": "2022-07-17T07:58:14.869775Z",
     "iopub.status.busy": "2022-07-17T07:58:14.869156Z",
     "iopub.status.idle": "2022-07-17T07:58:14.878038Z",
     "shell.execute_reply": "2022-07-17T07:58:14.876875Z",
     "shell.execute_reply.started": "2022-07-17T07:58:14.869743Z"
    }
   },
   "outputs": [
    {
     "data": {
      "text/plain": [
       "(400, 24)"
      ]
     },
     "execution_count": 5,
     "metadata": {},
     "output_type": "execute_result"
    }
   ],
   "source": [
    "data.shape"
   ]
  },
  {
   "cell_type": "markdown",
   "metadata": {},
   "source": [
    "The dataset has **400** training examples & **24** set of features."
   ]
  },
  {
   "cell_type": "code",
   "execution_count": 6,
   "metadata": {
    "execution": {
     "iopub.execute_input": "2022-07-17T07:58:18.491886Z",
     "iopub.status.busy": "2022-07-17T07:58:18.491533Z",
     "iopub.status.idle": "2022-07-17T07:58:18.496761Z",
     "shell.execute_reply": "2022-07-17T07:58:18.496093Z",
     "shell.execute_reply.started": "2022-07-17T07:58:18.491858Z"
    }
   },
   "outputs": [
    {
     "name": "stdout",
     "output_type": "stream",
     "text": [
      "Number of training examples: 400\n",
      "Number of features: 24\n"
     ]
    }
   ],
   "source": [
    "print('Number of training examples: %s' % str(data.shape[0]))\n",
    "print('Number of features: %s' % str(data.shape[1]))"
   ]
  },
  {
   "cell_type": "markdown",
   "metadata": {},
   "source": [
    "## EDA (Explorarory Data Analysis)\n",
    "First, we'll make a bried go-through of data using data analysis techniques. The purpose of this step is to make a deeper understanding of how does the data look like, and what useful insights can be drawn from data after EDA process."
   ]
  },
  {
   "cell_type": "code",
   "execution_count": 7,
   "metadata": {
    "execution": {
     "iopub.execute_input": "2022-07-17T07:59:31.194222Z",
     "iopub.status.busy": "2022-07-17T07:59:31.193853Z",
     "iopub.status.idle": "2022-07-17T07:59:31.199893Z",
     "shell.execute_reply": "2022-07-17T07:59:31.199239Z",
     "shell.execute_reply.started": "2022-07-17T07:59:31.194192Z"
    }
   },
   "outputs": [
    {
     "data": {
      "text/plain": [
       "Index(['Age', 'Duration', 'Frequency', 'Location', 'Character', 'Intensity',\n",
       "       'Nausea', 'Vomit', 'Phonophobia', 'Photophobia', 'Visual', 'Sensory',\n",
       "       'Dysphasia', 'Dysarthria', 'Vertigo', 'Tinnitus', 'Hypoacusis',\n",
       "       'Diplopia', 'Defect', 'Ataxia', 'Conscience', 'Paresthesia', 'DPF',\n",
       "       'Type'],\n",
       "      dtype='object')"
      ]
     },
     "execution_count": 7,
     "metadata": {},
     "output_type": "execute_result"
    }
   ],
   "source": [
    "data.columns"
   ]
  },
  {
   "cell_type": "code",
   "execution_count": 8,
   "metadata": {
    "execution": {
     "iopub.execute_input": "2022-07-17T07:59:51.358829Z",
     "iopub.status.busy": "2022-07-17T07:59:51.358320Z",
     "iopub.status.idle": "2022-07-17T07:59:51.375159Z",
     "shell.execute_reply": "2022-07-17T07:59:51.373964Z",
     "shell.execute_reply.started": "2022-07-17T07:59:51.358803Z"
    }
   },
   "outputs": [
    {
     "data": {
      "text/plain": [
       "Typical aura with migraine       247\n",
       "Migraine without aura             60\n",
       "Familial hemiplegic migraine      24\n",
       "Typical aura without migraine     20\n",
       "Basilar-type aura                 18\n",
       "Other                             17\n",
       "Sporadic hemiplegic migraine      14\n",
       "Name: Type, dtype: int64"
      ]
     },
     "execution_count": 8,
     "metadata": {},
     "output_type": "execute_result"
    }
   ],
   "source": [
    "data['Type'].value_counts()"
   ]
  },
  {
   "cell_type": "code",
   "execution_count": 9,
   "metadata": {
    "execution": {
     "iopub.execute_input": "2022-07-17T07:59:57.785226Z",
     "iopub.status.busy": "2022-07-17T07:59:57.784749Z",
     "iopub.status.idle": "2022-07-17T07:59:57.792200Z",
     "shell.execute_reply": "2022-07-17T07:59:57.791337Z",
     "shell.execute_reply.started": "2022-07-17T07:59:57.785195Z"
    }
   },
   "outputs": [
    {
     "data": {
      "text/plain": [
       "(15, 77)"
      ]
     },
     "execution_count": 9,
     "metadata": {},
     "output_type": "execute_result"
    }
   ],
   "source": [
    "data.Age.min(), data.Age.max()"
   ]
  },
  {
   "cell_type": "code",
   "execution_count": 17,
   "metadata": {
    "execution": {
     "iopub.execute_input": "2022-07-17T08:01:06.294076Z",
     "iopub.status.busy": "2022-07-17T08:01:06.293699Z",
     "iopub.status.idle": "2022-07-17T08:01:06.298414Z",
     "shell.execute_reply": "2022-07-17T08:01:06.297405Z",
     "shell.execute_reply.started": "2022-07-17T08:01:06.294049Z"
    }
   },
   "outputs": [],
   "source": [
    "# data['Age'].value_counts()"
   ]
  },
  {
   "cell_type": "code",
   "execution_count": 10,
   "metadata": {
    "execution": {
     "iopub.execute_input": "2022-07-17T08:00:00.994143Z",
     "iopub.status.busy": "2022-07-17T08:00:00.993760Z",
     "iopub.status.idle": "2022-07-17T08:00:01.194112Z",
     "shell.execute_reply": "2022-07-17T08:00:01.193561Z",
     "shell.execute_reply.started": "2022-07-17T08:00:00.994113Z"
    }
   },
   "outputs": [
    {
     "data": {
      "text/plain": [
       "<AxesSubplot:title={'center':'Range of Patient Age in Dataset '}>"
      ]
     },
     "execution_count": 10,
     "metadata": {},
     "output_type": "execute_result"
    },
    {
     "data": {
      "image/png": "[encoded data removed]",
      "text/plain": [
       "<Figure size 432x288 with 1 Axes>"
      ]
     },
     "metadata": {
      "needs_background": "light"
     },
     "output_type": "display_data"
    }
   ],
   "source": [
    "plt.title('Range of Patient Age in Dataset ')\n",
    "data['Age'].hist()"
   ]
  },
  {
   "cell_type": "code",
   "execution_count": 11,
   "metadata": {
    "execution": {
     "iopub.execute_input": "2022-07-17T08:00:05.474425Z",
     "iopub.status.busy": "2022-07-17T08:00:05.473519Z",
     "iopub.status.idle": "2022-07-17T08:00:05.482895Z",
     "shell.execute_reply": "2022-07-17T08:00:05.482050Z",
     "shell.execute_reply.started": "2022-07-17T08:00:05.474361Z"
    }
   },
   "outputs": [
    {
     "data": {
      "text/plain": [
       "1    369\n",
       "0     20\n",
       "2     11\n",
       "Name: Character, dtype: int64"
      ]
     },
     "execution_count": 11,
     "metadata": {},
     "output_type": "execute_result"
    }
   ],
   "source": [
    "data.Character.value_counts()"
   ]
  },
  {
   "cell_type": "code",
   "execution_count": 12,
   "metadata": {
    "execution": {
     "iopub.execute_input": "2022-07-17T08:00:07.525982Z",
     "iopub.status.busy": "2022-07-17T08:00:07.525427Z",
     "iopub.status.idle": "2022-07-17T08:00:07.643839Z",
     "shell.execute_reply": "2022-07-17T08:00:07.643182Z",
     "shell.execute_reply.started": "2022-07-17T08:00:07.525956Z"
    }
   },
   "outputs": [
    {
     "data": {
      "text/plain": [
       "<AxesSubplot:xlabel='Character', ylabel='count'>"
      ]
     },
     "execution_count": 12,
     "metadata": {},
     "output_type": "execute_result"
    },
    {
     "data": {
      "image/png": "[encoded data removed]",
      "text/plain": [
       "<Figure size 432x288 with 1 Axes>"
      ]
     },
     "metadata": {
      "needs_background": "light"
     },
     "output_type": "display_data"
    }
   ],
   "source": [
    "sns.countplot(x=data['Character'])"
   ]
  },
  {
   "cell_type": "code",
   "execution_count": 13,
   "metadata": {
    "execution": {
     "iopub.execute_input": "2022-07-17T08:00:09.900774Z",
     "iopub.status.busy": "2022-07-17T08:00:09.900455Z",
     "iopub.status.idle": "2022-07-17T08:00:10.011471Z",
     "shell.execute_reply": "2022-07-17T08:00:10.010303Z",
     "shell.execute_reply.started": "2022-07-17T08:00:09.900752Z"
    }
   },
   "outputs": [
    {
     "data": {
      "text/plain": [
       "<AxesSubplot:xlabel='Defect', ylabel='count'>"
      ]
     },
     "execution_count": 13,
     "metadata": {},
     "output_type": "execute_result"
    },
    {
     "data": {
      "image/png": "[encoded data removed]",
      "text/plain": [
       "<Figure size 432x288 with 1 Axes>"
      ]
     },
     "metadata": {
      "needs_background": "light"
     },
     "output_type": "display_data"
    }
   ],
   "source": [
    "sns.countplot(x=data.Defect)"
   ]
  },
  {
   "cell_type": "code",
   "execution_count": 14,
   "metadata": {
    "execution": {
     "iopub.execute_input": "2022-07-17T08:00:12.260339Z",
     "iopub.status.busy": "2022-07-17T08:00:12.259823Z",
     "iopub.status.idle": "2022-07-17T08:00:12.266955Z",
     "shell.execute_reply": "2022-07-17T08:00:12.266331Z",
     "shell.execute_reply.started": "2022-07-17T08:00:12.260313Z"
    }
   },
   "outputs": [
    {
     "data": {
      "text/plain": [
       "Typical aura with migraine       247\n",
       "Migraine without aura             60\n",
       "Familial hemiplegic migraine      24\n",
       "Typical aura without migraine     20\n",
       "Basilar-type aura                 18\n",
       "Other                             17\n",
       "Sporadic hemiplegic migraine      14\n",
       "Name: Type, dtype: int64"
      ]
     },
     "execution_count": 14,
     "metadata": {},
     "output_type": "execute_result"
    }
   ],
   "source": [
    "data.Type.value_counts()"
   ]
  },
  {
   "cell_type": "code",
   "execution_count": 15,
   "metadata": {
    "execution": {
     "iopub.execute_input": "2022-07-17T08:00:14.351031Z",
     "iopub.status.busy": "2022-07-17T08:00:14.350125Z",
     "iopub.status.idle": "2022-07-17T08:00:14.562895Z",
     "shell.execute_reply": "2022-07-17T08:00:14.562036Z",
     "shell.execute_reply.started": "2022-07-17T08:00:14.350983Z"
    }
   },
   "outputs": [
    {
     "data": {
      "text/plain": [
       "<AxesSubplot:xlabel='Type', ylabel='count'>"
      ]
     },
     "execution_count": 15,
     "metadata": {},
     "output_type": "execute_result"
    },
    {
     "data": {
      "image/png": "[encoded data removed]",
      "text/plain": [
       "<Figure size 1080x720 with 1 Axes>"
      ]
     },
     "metadata": {},
     "output_type": "display_data"
    }
   ],
   "source": [
    "sns.set(rc={'figure.figsize':(15, 10)})\n",
    "sns.countplot(x=data.Type)"
   ]
  },
  {
   "cell_type": "markdown",
   "metadata": {},
   "source": [
    "For making a more clear picture of our target distribution, we draw a circled plot to draw more useful insights."
   ]
  },
  {
   "cell_type": "code",
   "execution_count": 18,
   "metadata": {
    "execution": {
     "iopub.execute_input": "2022-07-17T08:01:11.009771Z",
     "iopub.status.busy": "2022-07-17T08:01:11.009461Z",
     "iopub.status.idle": "2022-07-17T08:01:11.161243Z",
     "shell.execute_reply": "2022-07-17T08:01:11.160384Z",
     "shell.execute_reply.started": "2022-07-17T08:01:11.009743Z"
    }
   },
   "outputs": [
    {
     "data": {
      "text/plain": [
       "<matplotlib.patches.Circle at 0x7f5df36d12d0>"
      ]
     },
     "execution_count": 18,
     "metadata": {},
     "output_type": "execute_result"
    },
    {
     "data": {
      "image/png": "[encoded data removed]",
      "text/plain": [
       "<Figure size 720x576 with 1 Axes>"
      ]
     },
     "metadata": {},
     "output_type": "display_data"
    }
   ],
   "source": [
    "plt.figure(figsize=(10, 8))\n",
    "circle = plt.Circle((0, 0), 0.7, color='white')\n",
    "plt.pie(data.Type.value_counts(), labels=['Typical Aura With Migraine', 'Migraine Without Aura', 'Familial Hemiplegic Nigraine',\n",
    "                                                'Typical Aura Without Migraine', 'Basilar Typed Aura', \n",
    "                                         'Other', 'Sporadic Hemiplegic Migraine'], colors=['blue', 'magenta', 'cyan', \n",
    "                                                                                   'red', 'grey', 'black', 'yellow'])\n",
    "p = plt.gcf()\n",
    "p.gca().add_artist(circle)"
   ]
  },
  {
   "cell_type": "markdown",
   "metadata": {},
   "source": [
    "From the figure, it can be seen that:\n",
    "- The most common type of migraine in the dataset is **Typical Aura With Migraine**\n",
    "- **Migraine Wtihout Aura** holds the second position with second most common place\n",
    "- Other 5 types of heartbeats in the dataset are less frequent as compared to the first two\n",
    "\n",
    "It can be given from dataset that the data is imbalanced, i.e., most of the training examples belong to Typical Aura With Migraine, while the percentage of other features are less. Therefore, this class imbalance needs to be reduced in order to make a successful model."
   ]
  },
  {
   "cell_type": "code",
   "execution_count": 19,
   "metadata": {
    "execution": {
     "iopub.execute_input": "2022-07-17T08:02:41.659745Z",
     "iopub.status.busy": "2022-07-17T08:02:41.659353Z",
     "iopub.status.idle": "2022-07-17T08:02:42.075914Z",
     "shell.execute_reply": "2022-07-17T08:02:42.074853Z",
     "shell.execute_reply.started": "2022-07-17T08:02:41.659716Z"
    }
   },
   "outputs": [
    {
     "data": {
      "text/plain": [
       "<seaborn.axisgrid.FacetGrid at 0x7f5df38d2a90>"
      ]
     },
     "execution_count": 19,
     "metadata": {},
     "output_type": "execute_result"
    },
    {
     "data": {
      "image/png": "[encoded data removed]",
      "text/plain": [
       "<Figure size 1296x432 with 1 Axes>"
      ]
     },
     "metadata": {},
     "output_type": "display_data"
    }
   ],
   "source": [
    "# cgecking for some outliers in dataset\n",
    "sns.catplot(y='Type', x='Age', data=data.sort_values(\"Type\", ascending=False),\n",
    "           kind='boxen', height=6, aspect=3)"
   ]
  },
  {
   "cell_type": "code",
   "execution_count": 20,
   "metadata": {
    "execution": {
     "iopub.execute_input": "2022-07-17T08:06:55.249247Z",
     "iopub.status.busy": "2022-07-17T08:06:55.248835Z",
     "iopub.status.idle": "2022-07-17T08:06:55.257433Z",
     "shell.execute_reply": "2022-07-17T08:06:55.256675Z",
     "shell.execute_reply.started": "2022-07-17T08:06:55.249217Z"
    }
   },
   "outputs": [
    {
     "data": {
      "text/plain": [
       "array([0, 0, 0, 0, 0, 0, 0, 0, 0, 0, 0, 0, 0, 0, 0, 0, 0, 0, 0, 0, 0, 0,\n",
       "       0, 0])"
      ]
     },
     "execution_count": 20,
     "metadata": {},
     "output_type": "execute_result"
    }
   ],
   "source": [
    "# checking for some null, missing or NaN values\n",
    "data.isnull().sum().to_numpy()"
   ]
  },
  {
   "cell_type": "markdown",
   "metadata": {},
   "source": [
    "## Sampling Dataset\n",
    "We have unequal number of samples in each class of dataset, which means that we are dealing with imbalanced classification. We need to resample the dataset in order to make a machine learning model that learns all instances well. For this, we'll apply random oversampling & undersampling techniques.\n",
    "\n",
    "For undergoing this procedure, we'll follow following steps:\n",
    "- First, we extract the features of each class from dataset\n",
    "- Then, we apply sampling to each of the classes by assigning equal number of instances to each class\n",
    "- Then we concatenate each of the dataframes in a single dataframe that contains equal samples of each class"
   ]
  },
  {
   "cell_type": "code",
   "execution_count": 21,
   "metadata": {
    "execution": {
     "iopub.execute_input": "2022-07-17T08:07:00.810132Z",
     "iopub.status.busy": "2022-07-17T08:07:00.809756Z",
     "iopub.status.idle": "2022-07-17T08:07:00.821657Z",
     "shell.execute_reply": "2022-07-17T08:07:00.820577Z",
     "shell.execute_reply.started": "2022-07-17T08:07:00.810104Z"
    }
   },
   "outputs": [],
   "source": [
    "# as there are 7 classes, so there will be 7 different dataframes\n",
    "data_1 = data[data['Type'] == 'Typical aura with migraine']\n",
    "data_2 = data[data['Type'] == 'Migraine without aura']\n",
    "data_3 = data[data['Type'] == 'Familial hemiplegic migraine']\n",
    "data_4 = data[data['Type'] == 'Typical aura without migraine']\n",
    "data_5 = data[data['Type'] == 'Basilar-type aura']\n",
    "data_6 = data[data['Type'] == 'Other']\n",
    "data_7 = data[data['Type'] == 'Sporadic hemiplegic migraine']"
   ]
  },
  {
   "cell_type": "code",
   "execution_count": 22,
   "metadata": {
    "execution": {
     "iopub.execute_input": "2022-07-17T08:07:04.151428Z",
     "iopub.status.busy": "2022-07-17T08:07:04.150942Z",
     "iopub.status.idle": "2022-07-17T08:07:04.158168Z",
     "shell.execute_reply": "2022-07-17T08:07:04.157370Z",
     "shell.execute_reply.started": "2022-07-17T08:07:04.151378Z"
    }
   },
   "outputs": [
    {
     "data": {
      "text/plain": [
       "(400, 24)"
      ]
     },
     "execution_count": 22,
     "metadata": {},
     "output_type": "execute_result"
    }
   ],
   "source": [
    "data.shape"
   ]
  },
  {
   "cell_type": "code",
   "execution_count": 23,
   "metadata": {
    "execution": {
     "iopub.execute_input": "2022-07-17T08:07:06.706349Z",
     "iopub.status.busy": "2022-07-17T08:07:06.706005Z",
     "iopub.status.idle": "2022-07-17T08:07:06.712017Z",
     "shell.execute_reply": "2022-07-17T08:07:06.711069Z",
     "shell.execute_reply.started": "2022-07-17T08:07:06.706325Z"
    }
   },
   "outputs": [
    {
     "data": {
      "text/plain": [
       "57.142857142857146"
      ]
     },
     "execution_count": 23,
     "metadata": {},
     "output_type": "execute_result"
    }
   ],
   "source": [
    "400/7"
   ]
  },
  {
   "cell_type": "code",
   "execution_count": 24,
   "metadata": {
    "execution": {
     "iopub.execute_input": "2022-07-17T08:07:10.024051Z",
     "iopub.status.busy": "2022-07-17T08:07:10.023185Z",
     "iopub.status.idle": "2022-07-17T08:07:10.036197Z",
     "shell.execute_reply": "2022-07-17T08:07:10.035691Z",
     "shell.execute_reply.started": "2022-07-17T08:07:10.024019Z"
    }
   },
   "outputs": [],
   "source": [
    "# applying resampling through sampling function in sklearn\n",
    "from sklearn.utils import resample\n",
    "\n",
    "# we will put 200 samples in each class\n",
    "data_1_resample = resample(data_1, n_samples=200, \n",
    "                           random_state=123, replace=True)\n",
    "data_2_resample = resample(data_2, n_samples=200, \n",
    "                           random_state=123, replace=True)\n",
    "data_3_resample = resample(data_3, n_samples=200, \n",
    "                           random_state=123, replace=True)\n",
    "data_4_resample = resample(data_4, n_samples=200, \n",
    "                           random_state=123, replace=True)\n",
    "data_5_resample = resample(data_5, n_samples=200, \n",
    "                           random_state=123, replace=True)\n",
    "data_6_resample = resample(data_6, n_samples=200, \n",
    "                           random_state=123, replace=True)\n",
    "data_7_resample = resample(data_7, n_samples=200, \n",
    "                           random_state=123, replace=True)"
   ]
  },
  {
   "cell_type": "code",
   "execution_count": 25,
   "metadata": {
    "execution": {
     "iopub.execute_input": "2022-07-17T08:07:15.468629Z",
     "iopub.status.busy": "2022-07-17T08:07:15.468249Z",
     "iopub.status.idle": "2022-07-17T08:07:15.476780Z",
     "shell.execute_reply": "2022-07-17T08:07:15.475509Z",
     "shell.execute_reply.started": "2022-07-17T08:07:15.468603Z"
    }
   },
   "outputs": [],
   "source": [
    "train_dataset = pd.concat([data_1, data_2_resample, data_3_resample, data_4_resample, \n",
    "                          data_5_resample, data_6_resample, data_7_resample])"
   ]
  },
  {
   "cell_type": "code",
   "execution_count": 26,
   "metadata": {
    "execution": {
     "iopub.execute_input": "2022-07-17T08:07:18.576947Z",
     "iopub.status.busy": "2022-07-17T08:07:18.576062Z",
     "iopub.status.idle": "2022-07-17T08:07:18.598859Z",
     "shell.execute_reply": "2022-07-17T08:07:18.598238Z",
     "shell.execute_reply.started": "2022-07-17T08:07:18.576916Z"
    }
   },
   "outputs": [
    {
     "data": {
      "text/html": [
       "<div>\n",
       "<style scoped>\n",
       "    .dataframe tbody tr th:only-of-type {\n",
       "        vertical-align: middle;\n",
       "    }\n",
       "\n",
       "    .dataframe tbody tr th {\n",
       "        vertical-align: top;\n",
       "    }\n",
       "\n",
       "    .dataframe thead th {\n",
       "        text-align: right;\n",
       "    }\n",
       "</style>\n",
       "<table border=\"1\" class=\"dataframe\">\n",
       "  <thead>\n",
       "    <tr style=\"text-align: right;\">\n",
       "      <th></th>\n",
       "      <th>Age</th>\n",
       "      <th>Duration</th>\n",
       "      <th>Frequency</th>\n",
       "      <th>Location</th>\n",
       "      <th>Character</th>\n",
       "      <th>Intensity</th>\n",
       "      <th>Nausea</th>\n",
       "      <th>Vomit</th>\n",
       "      <th>Phonophobia</th>\n",
       "      <th>Photophobia</th>\n",
       "      <th>...</th>\n",
       "      <th>Vertigo</th>\n",
       "      <th>Tinnitus</th>\n",
       "      <th>Hypoacusis</th>\n",
       "      <th>Diplopia</th>\n",
       "      <th>Defect</th>\n",
       "      <th>Ataxia</th>\n",
       "      <th>Conscience</th>\n",
       "      <th>Paresthesia</th>\n",
       "      <th>DPF</th>\n",
       "      <th>Type</th>\n",
       "    </tr>\n",
       "  </thead>\n",
       "  <tbody>\n",
       "    <tr>\n",
       "      <th>0</th>\n",
       "      <td>30</td>\n",
       "      <td>1</td>\n",
       "      <td>5</td>\n",
       "      <td>1</td>\n",
       "      <td>1</td>\n",
       "      <td>2</td>\n",
       "      <td>1</td>\n",
       "      <td>0</td>\n",
       "      <td>1</td>\n",
       "      <td>1</td>\n",
       "      <td>...</td>\n",
       "      <td>0</td>\n",
       "      <td>0</td>\n",
       "      <td>0</td>\n",
       "      <td>0</td>\n",
       "      <td>0</td>\n",
       "      <td>0</td>\n",
       "      <td>0</td>\n",
       "      <td>0</td>\n",
       "      <td>0</td>\n",
       "      <td>Typical aura with migraine</td>\n",
       "    </tr>\n",
       "    <tr>\n",
       "      <th>1</th>\n",
       "      <td>50</td>\n",
       "      <td>3</td>\n",
       "      <td>5</td>\n",
       "      <td>1</td>\n",
       "      <td>1</td>\n",
       "      <td>3</td>\n",
       "      <td>1</td>\n",
       "      <td>1</td>\n",
       "      <td>1</td>\n",
       "      <td>1</td>\n",
       "      <td>...</td>\n",
       "      <td>1</td>\n",
       "      <td>0</td>\n",
       "      <td>0</td>\n",
       "      <td>0</td>\n",
       "      <td>0</td>\n",
       "      <td>0</td>\n",
       "      <td>0</td>\n",
       "      <td>0</td>\n",
       "      <td>0</td>\n",
       "      <td>Typical aura with migraine</td>\n",
       "    </tr>\n",
       "    <tr>\n",
       "      <th>2</th>\n",
       "      <td>53</td>\n",
       "      <td>2</td>\n",
       "      <td>1</td>\n",
       "      <td>1</td>\n",
       "      <td>1</td>\n",
       "      <td>2</td>\n",
       "      <td>1</td>\n",
       "      <td>1</td>\n",
       "      <td>1</td>\n",
       "      <td>1</td>\n",
       "      <td>...</td>\n",
       "      <td>0</td>\n",
       "      <td>0</td>\n",
       "      <td>0</td>\n",
       "      <td>0</td>\n",
       "      <td>0</td>\n",
       "      <td>0</td>\n",
       "      <td>0</td>\n",
       "      <td>0</td>\n",
       "      <td>0</td>\n",
       "      <td>Typical aura with migraine</td>\n",
       "    </tr>\n",
       "  </tbody>\n",
       "</table>\n",
       "<p>3 rows × 24 columns</p>\n",
       "</div>"
      ],
      "text/plain": [
       "   Age  Duration  Frequency  Location  Character  Intensity  Nausea  Vomit  \\\n",
       "0   30         1          5         1          1          2       1      0   \n",
       "1   50         3          5         1          1          3       1      1   \n",
       "2   53         2          1         1          1          2       1      1   \n",
       "\n",
       "   Phonophobia  Photophobia  ...  Vertigo  Tinnitus  Hypoacusis  Diplopia  \\\n",
       "0            1            1  ...        0         0           0         0   \n",
       "1            1            1  ...        1         0           0         0   \n",
       "2            1            1  ...        0         0           0         0   \n",
       "\n",
       "   Defect  Ataxia  Conscience  Paresthesia  DPF                        Type  \n",
       "0       0       0           0            0    0  Typical aura with migraine  \n",
       "1       0       0           0            0    0  Typical aura with migraine  \n",
       "2       0       0           0            0    0  Typical aura with migraine  \n",
       "\n",
       "[3 rows x 24 columns]"
      ]
     },
     "execution_count": 26,
     "metadata": {},
     "output_type": "execute_result"
    }
   ],
   "source": [
    "train_dataset.head(3)"
   ]
  },
  {
   "cell_type": "code",
   "execution_count": 27,
   "metadata": {
    "execution": {
     "iopub.execute_input": "2022-07-17T08:07:21.501519Z",
     "iopub.status.busy": "2022-07-17T08:07:21.501014Z",
     "iopub.status.idle": "2022-07-17T08:07:21.508460Z",
     "shell.execute_reply": "2022-07-17T08:07:21.507689Z",
     "shell.execute_reply.started": "2022-07-17T08:07:21.501479Z"
    }
   },
   "outputs": [
    {
     "data": {
      "text/plain": [
       "(1447, 24)"
      ]
     },
     "execution_count": 27,
     "metadata": {},
     "output_type": "execute_result"
    }
   ],
   "source": [
    "train_dataset.shape"
   ]
  },
  {
   "cell_type": "code",
   "execution_count": 28,
   "metadata": {
    "execution": {
     "iopub.execute_input": "2022-07-17T08:07:23.574736Z",
     "iopub.status.busy": "2022-07-17T08:07:23.574349Z",
     "iopub.status.idle": "2022-07-17T08:07:23.707018Z",
     "shell.execute_reply": "2022-07-17T08:07:23.706270Z",
     "shell.execute_reply.started": "2022-07-17T08:07:23.574707Z"
    }
   },
   "outputs": [
    {
     "data": {
      "text/plain": [
       "<matplotlib.patches.Circle at 0x7f5df38ef750>"
      ]
     },
     "execution_count": 28,
     "metadata": {},
     "output_type": "execute_result"
    },
    {
     "data": {
      "image/png": "[encoded data removed]",
      "text/plain": [
       "<Figure size 720x576 with 1 Axes>"
      ]
     },
     "metadata": {},
     "output_type": "display_data"
    }
   ],
   "source": [
    "# viewing the sample distribution of classes again\n",
    "\n",
    "plt.figure(figsize=(10, 8))\n",
    "circle = plt.Circle((0, 0), 0.7, color='white')\n",
    "plt.pie(train_dataset.Type.value_counts(), labels=['Typical Aura With Migraine', 'Migraine Without Aura', 'Familial Hemiplegic Nigraine',\n",
    "                                                'Typical Aura Without Migraine', 'Basilar Typed Aura', \n",
    "                                         'Other', 'Sporadic Hemiplegic Migraine'], colors=['blue', 'magenta', 'cyan', \n",
    "                                                                                   'red', 'grey', 'black', 'yellow'])\n",
    "p = plt.gcf()\n",
    "p.gca().add_artist(circle)"
   ]
  },
  {
   "cell_type": "markdown",
   "metadata": {},
   "source": [
    "After undergoing the re-sampling step, we have now arrived at a point where we have equal number of samples of each class. "
   ]
  },
  {
   "cell_type": "code",
   "execution_count": 29,
   "metadata": {
    "execution": {
     "iopub.execute_input": "2022-07-17T08:07:32.033477Z",
     "iopub.status.busy": "2022-07-17T08:07:32.032846Z",
     "iopub.status.idle": "2022-07-17T08:07:32.349936Z",
     "shell.execute_reply": "2022-07-17T08:07:32.348970Z",
     "shell.execute_reply.started": "2022-07-17T08:07:32.033436Z"
    }
   },
   "outputs": [
    {
     "data": {
      "text/plain": [
       "<seaborn.axisgrid.FacetGrid at 0x7f5df3912bd0>"
      ]
     },
     "execution_count": 29,
     "metadata": {},
     "output_type": "execute_result"
    },
    {
     "data": {
      "image/png": "[encoded data removed]",
      "text/plain": [
       "<Figure size 1296x432 with 1 Axes>"
      ]
     },
     "metadata": {},
     "output_type": "display_data"
    }
   ],
   "source": [
    "sns.catplot(y='Type', x='Age', data=train_dataset.sort_values(\"Type\", ascending=False),\n",
    "           kind='boxen', height=6, aspect=3)"
   ]
  },
  {
   "cell_type": "markdown",
   "metadata": {},
   "source": [
    "## Selecting X & Y Variables\n",
    "Selecting predictor (X) variables & Y (target) variables for our modl. The target column will be the type of migraine, and all other features will be features."
   ]
  },
  {
   "cell_type": "code",
   "execution_count": 30,
   "metadata": {
    "execution": {
     "iopub.execute_input": "2022-07-17T08:07:37.073406Z",
     "iopub.status.busy": "2022-07-17T08:07:37.073054Z",
     "iopub.status.idle": "2022-07-17T08:07:37.078593Z",
     "shell.execute_reply": "2022-07-17T08:07:37.077794Z",
     "shell.execute_reply.started": "2022-07-17T08:07:37.073384Z"
    }
   },
   "outputs": [],
   "source": [
    "X = train_dataset.drop('Type', axis=1)\n",
    "Y = train_dataset['Type']"
   ]
  },
  {
   "cell_type": "code",
   "execution_count": 31,
   "metadata": {
    "execution": {
     "iopub.execute_input": "2022-07-17T08:07:39.617096Z",
     "iopub.status.busy": "2022-07-17T08:07:39.616643Z",
     "iopub.status.idle": "2022-07-17T08:07:39.623530Z",
     "shell.execute_reply": "2022-07-17T08:07:39.622882Z",
     "shell.execute_reply.started": "2022-07-17T08:07:39.617059Z"
    }
   },
   "outputs": [
    {
     "data": {
      "text/plain": [
       "((1447, 23), (1447,))"
      ]
     },
     "execution_count": 31,
     "metadata": {},
     "output_type": "execute_result"
    }
   ],
   "source": [
    "X.shape, Y.shape"
   ]
  },
  {
   "cell_type": "code",
   "execution_count": 32,
   "metadata": {
    "execution": {
     "iopub.execute_input": "2022-07-17T08:07:42.042636Z",
     "iopub.status.busy": "2022-07-17T08:07:42.042263Z",
     "iopub.status.idle": "2022-07-17T08:07:42.063478Z",
     "shell.execute_reply": "2022-07-17T08:07:42.062243Z",
     "shell.execute_reply.started": "2022-07-17T08:07:42.042607Z"
    }
   },
   "outputs": [
    {
     "data": {
      "text/html": [
       "<div>\n",
       "<style scoped>\n",
       "    .dataframe tbody tr th:only-of-type {\n",
       "        vertical-align: middle;\n",
       "    }\n",
       "\n",
       "    .dataframe tbody tr th {\n",
       "        vertical-align: top;\n",
       "    }\n",
       "\n",
       "    .dataframe thead th {\n",
       "        text-align: right;\n",
       "    }\n",
       "</style>\n",
       "<table border=\"1\" class=\"dataframe\">\n",
       "  <thead>\n",
       "    <tr style=\"text-align: right;\">\n",
       "      <th></th>\n",
       "      <th>Age</th>\n",
       "      <th>Duration</th>\n",
       "      <th>Frequency</th>\n",
       "      <th>Location</th>\n",
       "      <th>Character</th>\n",
       "      <th>Intensity</th>\n",
       "      <th>Nausea</th>\n",
       "      <th>Vomit</th>\n",
       "      <th>Phonophobia</th>\n",
       "      <th>Photophobia</th>\n",
       "      <th>...</th>\n",
       "      <th>Dysarthria</th>\n",
       "      <th>Vertigo</th>\n",
       "      <th>Tinnitus</th>\n",
       "      <th>Hypoacusis</th>\n",
       "      <th>Diplopia</th>\n",
       "      <th>Defect</th>\n",
       "      <th>Ataxia</th>\n",
       "      <th>Conscience</th>\n",
       "      <th>Paresthesia</th>\n",
       "      <th>DPF</th>\n",
       "    </tr>\n",
       "  </thead>\n",
       "  <tbody>\n",
       "    <tr>\n",
       "      <th>0</th>\n",
       "      <td>30</td>\n",
       "      <td>1</td>\n",
       "      <td>5</td>\n",
       "      <td>1</td>\n",
       "      <td>1</td>\n",
       "      <td>2</td>\n",
       "      <td>1</td>\n",
       "      <td>0</td>\n",
       "      <td>1</td>\n",
       "      <td>1</td>\n",
       "      <td>...</td>\n",
       "      <td>0</td>\n",
       "      <td>0</td>\n",
       "      <td>0</td>\n",
       "      <td>0</td>\n",
       "      <td>0</td>\n",
       "      <td>0</td>\n",
       "      <td>0</td>\n",
       "      <td>0</td>\n",
       "      <td>0</td>\n",
       "      <td>0</td>\n",
       "    </tr>\n",
       "    <tr>\n",
       "      <th>1</th>\n",
       "      <td>50</td>\n",
       "      <td>3</td>\n",
       "      <td>5</td>\n",
       "      <td>1</td>\n",
       "      <td>1</td>\n",
       "      <td>3</td>\n",
       "      <td>1</td>\n",
       "      <td>1</td>\n",
       "      <td>1</td>\n",
       "      <td>1</td>\n",
       "      <td>...</td>\n",
       "      <td>0</td>\n",
       "      <td>1</td>\n",
       "      <td>0</td>\n",
       "      <td>0</td>\n",
       "      <td>0</td>\n",
       "      <td>0</td>\n",
       "      <td>0</td>\n",
       "      <td>0</td>\n",
       "      <td>0</td>\n",
       "      <td>0</td>\n",
       "    </tr>\n",
       "    <tr>\n",
       "      <th>2</th>\n",
       "      <td>53</td>\n",
       "      <td>2</td>\n",
       "      <td>1</td>\n",
       "      <td>1</td>\n",
       "      <td>1</td>\n",
       "      <td>2</td>\n",
       "      <td>1</td>\n",
       "      <td>1</td>\n",
       "      <td>1</td>\n",
       "      <td>1</td>\n",
       "      <td>...</td>\n",
       "      <td>0</td>\n",
       "      <td>0</td>\n",
       "      <td>0</td>\n",
       "      <td>0</td>\n",
       "      <td>0</td>\n",
       "      <td>0</td>\n",
       "      <td>0</td>\n",
       "      <td>0</td>\n",
       "      <td>0</td>\n",
       "      <td>0</td>\n",
       "    </tr>\n",
       "    <tr>\n",
       "      <th>3</th>\n",
       "      <td>45</td>\n",
       "      <td>3</td>\n",
       "      <td>5</td>\n",
       "      <td>1</td>\n",
       "      <td>1</td>\n",
       "      <td>3</td>\n",
       "      <td>1</td>\n",
       "      <td>0</td>\n",
       "      <td>1</td>\n",
       "      <td>1</td>\n",
       "      <td>...</td>\n",
       "      <td>0</td>\n",
       "      <td>1</td>\n",
       "      <td>0</td>\n",
       "      <td>0</td>\n",
       "      <td>0</td>\n",
       "      <td>0</td>\n",
       "      <td>0</td>\n",
       "      <td>0</td>\n",
       "      <td>0</td>\n",
       "      <td>0</td>\n",
       "    </tr>\n",
       "    <tr>\n",
       "      <th>4</th>\n",
       "      <td>53</td>\n",
       "      <td>1</td>\n",
       "      <td>1</td>\n",
       "      <td>1</td>\n",
       "      <td>1</td>\n",
       "      <td>2</td>\n",
       "      <td>1</td>\n",
       "      <td>0</td>\n",
       "      <td>1</td>\n",
       "      <td>1</td>\n",
       "      <td>...</td>\n",
       "      <td>0</td>\n",
       "      <td>0</td>\n",
       "      <td>0</td>\n",
       "      <td>0</td>\n",
       "      <td>0</td>\n",
       "      <td>0</td>\n",
       "      <td>0</td>\n",
       "      <td>0</td>\n",
       "      <td>0</td>\n",
       "      <td>1</td>\n",
       "    </tr>\n",
       "  </tbody>\n",
       "</table>\n",
       "<p>5 rows × 23 columns</p>\n",
       "</div>"
      ],
      "text/plain": [
       "   Age  Duration  Frequency  Location  Character  Intensity  Nausea  Vomit  \\\n",
       "0   30         1          5         1          1          2       1      0   \n",
       "1   50         3          5         1          1          3       1      1   \n",
       "2   53         2          1         1          1          2       1      1   \n",
       "3   45         3          5         1          1          3       1      0   \n",
       "4   53         1          1         1          1          2       1      0   \n",
       "\n",
       "   Phonophobia  Photophobia  ...  Dysarthria  Vertigo  Tinnitus  Hypoacusis  \\\n",
       "0            1            1  ...           0        0         0           0   \n",
       "1            1            1  ...           0        1         0           0   \n",
       "2            1            1  ...           0        0         0           0   \n",
       "3            1            1  ...           0        1         0           0   \n",
       "4            1            1  ...           0        0         0           0   \n",
       "\n",
       "   Diplopia  Defect  Ataxia  Conscience  Paresthesia  DPF  \n",
       "0         0       0       0           0            0    0  \n",
       "1         0       0       0           0            0    0  \n",
       "2         0       0       0           0            0    0  \n",
       "3         0       0       0           0            0    0  \n",
       "4         0       0       0           0            0    1  \n",
       "\n",
       "[5 rows x 23 columns]"
      ]
     },
     "execution_count": 32,
     "metadata": {},
     "output_type": "execute_result"
    }
   ],
   "source": [
    "X.head(5)"
   ]
  },
  {
   "cell_type": "code",
   "execution_count": 33,
   "metadata": {
    "execution": {
     "iopub.execute_input": "2022-07-17T08:07:46.252917Z",
     "iopub.status.busy": "2022-07-17T08:07:46.252534Z",
     "iopub.status.idle": "2022-07-17T08:07:46.259984Z",
     "shell.execute_reply": "2022-07-17T08:07:46.259330Z",
     "shell.execute_reply.started": "2022-07-17T08:07:46.252878Z"
    }
   },
   "outputs": [
    {
     "data": {
      "text/plain": [
       "0    Typical aura with migraine\n",
       "1    Typical aura with migraine\n",
       "2    Typical aura with migraine\n",
       "3    Typical aura with migraine\n",
       "4    Typical aura with migraine\n",
       "Name: Type, dtype: object"
      ]
     },
     "execution_count": 33,
     "metadata": {},
     "output_type": "execute_result"
    }
   ],
   "source": [
    "Y.head(5)"
   ]
  },
  {
   "cell_type": "markdown",
   "metadata": {},
   "source": [
    "## Data Splicing (Split into Train & Test Sets)"
   ]
  },
  {
   "cell_type": "code",
   "execution_count": 34,
   "metadata": {
    "execution": {
     "iopub.execute_input": "2022-07-17T08:07:49.946090Z",
     "iopub.status.busy": "2022-07-17T08:07:49.945081Z",
     "iopub.status.idle": "2022-07-17T08:07:49.953704Z",
     "shell.execute_reply": "2022-07-17T08:07:49.952740Z",
     "shell.execute_reply.started": "2022-07-17T08:07:49.946058Z"
    }
   },
   "outputs": [
    {
     "name": "stdout",
     "output_type": "stream",
     "text": [
      "(1157, 23)\n",
      "(290, 23)\n",
      "(1157,)\n",
      "(290,)\n"
     ]
    }
   ],
   "source": [
    "X_train, X_test, Y_train, Y_test = train_test_split(X, \n",
    "                                                  Y, \n",
    "                                                  test_size=0.2, \n",
    "                                                  random_state=123)\n",
    "\n",
    "print(X_train.shape)\n",
    "print(X_test.shape)\n",
    "print(Y_train.shape)\n",
    "print(Y_test.shape)"
   ]
  },
  {
   "cell_type": "code",
   "execution_count": 53,
   "metadata": {
    "execution": {
     "iopub.execute_input": "2022-07-17T08:22:11.602818Z",
     "iopub.status.busy": "2022-07-17T08:22:11.602433Z",
     "iopub.status.idle": "2022-07-17T08:22:11.609978Z",
     "shell.execute_reply": "2022-07-17T08:22:11.609092Z",
     "shell.execute_reply.started": "2022-07-17T08:22:11.602788Z"
    }
   },
   "outputs": [
    {
     "data": {
      "text/plain": [
       "((1447, 23), (1447, 23))"
      ]
     },
     "execution_count": 53,
     "metadata": {},
     "output_type": "execute_result"
    }
   ],
   "source": [
    "X_arr = np.array(X)\n",
    "X_arr.shape, X.shape"
   ]
  },
  {
   "cell_type": "code",
   "execution_count": 54,
   "metadata": {
    "execution": {
     "iopub.execute_input": "2022-07-17T08:22:20.723320Z",
     "iopub.status.busy": "2022-07-17T08:22:20.722430Z",
     "iopub.status.idle": "2022-07-17T08:22:20.731683Z",
     "shell.execute_reply": "2022-07-17T08:22:20.730629Z",
     "shell.execute_reply.started": "2022-07-17T08:22:20.723265Z"
    }
   },
   "outputs": [
    {
     "data": {
      "text/plain": [
       "array([[30,  1,  5, ...,  0,  0,  0],\n",
       "       [50,  3,  5, ...,  0,  0,  0],\n",
       "       [53,  2,  1, ...,  0,  0,  0],\n",
       "       ...,\n",
       "       [21,  1,  1, ...,  0,  0,  0],\n",
       "       [19,  1,  2, ...,  0,  0,  0],\n",
       "       [24,  1,  1, ...,  0,  0,  0]])"
      ]
     },
     "execution_count": 54,
     "metadata": {},
     "output_type": "execute_result"
    }
   ],
   "source": [
    "X_arr"
   ]
  },
  {
   "cell_type": "code",
   "execution_count": 57,
   "metadata": {
    "execution": {
     "iopub.execute_input": "2022-07-17T08:27:22.495323Z",
     "iopub.status.busy": "2022-07-17T08:27:22.494932Z",
     "iopub.status.idle": "2022-07-17T08:27:22.501904Z",
     "shell.execute_reply": "2022-07-17T08:27:22.500706Z",
     "shell.execute_reply.started": "2022-07-17T08:27:22.495292Z"
    }
   },
   "outputs": [],
   "source": [
    "encoder = LabelEncoder()\n",
    "encoder.fit(Y)\n",
    "encoded_Y = encoder.transform(Y)"
   ]
  },
  {
   "cell_type": "code",
   "execution_count": 59,
   "metadata": {
    "execution": {
     "iopub.execute_input": "2022-07-17T08:28:27.222696Z",
     "iopub.status.busy": "2022-07-17T08:28:27.222312Z",
     "iopub.status.idle": "2022-07-17T08:28:27.227132Z",
     "shell.execute_reply": "2022-07-17T08:28:27.226146Z",
     "shell.execute_reply.started": "2022-07-17T08:28:27.222662Z"
    }
   },
   "outputs": [],
   "source": [
    "labelled_Y = to_categorical(encoded_Y)"
   ]
  },
  {
   "cell_type": "code",
   "execution_count": 61,
   "metadata": {
    "execution": {
     "iopub.execute_input": "2022-07-17T08:28:34.590431Z",
     "iopub.status.busy": "2022-07-17T08:28:34.590097Z",
     "iopub.status.idle": "2022-07-17T08:28:34.595451Z",
     "shell.execute_reply": "2022-07-17T08:28:34.594684Z",
     "shell.execute_reply.started": "2022-07-17T08:28:34.590405Z"
    }
   },
   "outputs": [
    {
     "data": {
      "text/plain": [
       "(1447, 7)"
      ]
     },
     "execution_count": 61,
     "metadata": {},
     "output_type": "execute_result"
    }
   ],
   "source": [
    "labelled_Y.shape"
   ]
  },
  {
   "cell_type": "code",
   "execution_count": 64,
   "metadata": {
    "execution": {
     "iopub.execute_input": "2022-07-17T08:29:55.105504Z",
     "iopub.status.busy": "2022-07-17T08:29:55.105071Z",
     "iopub.status.idle": "2022-07-17T08:29:55.117686Z",
     "shell.execute_reply": "2022-07-17T08:29:55.116467Z",
     "shell.execute_reply.started": "2022-07-17T08:29:55.105468Z"
    }
   },
   "outputs": [
    {
     "name": "stdout",
     "output_type": "stream",
     "text": [
      "(1157, 23)\n",
      "(290, 23)\n",
      "(1157, 7)\n",
      "(290, 7)\n"
     ]
    }
   ],
   "source": [
    "X_train, X_test, Y_train, Y_test = train_test_split(X, \n",
    "                                                  labelled_Y, \n",
    "                                                  test_size=0.2, \n",
    "                                                  random_state=123)\n",
    "\n",
    "print(X_train.shape)\n",
    "print(X_test.shape)\n",
    "print(Y_train.shape)\n",
    "print(Y_test.shape)"
   ]
  },
  {
   "cell_type": "markdown",
   "metadata": {},
   "source": [
    "## Applying Deep Neural Networks (DNNs)\n",
    "In below step, now we apply deep neural networks (DNNs) to our dataset for migraine classification into 7 possible classes. This process can be broken down as:\n",
    "* First, we'll make a deep neural network with one architecture\n",
    "* Second, we'll make a deep neural network with different architcure"
   ]
  },
  {
   "cell_type": "markdown",
   "metadata": {},
   "source": [
    "### DNN With One Architecture"
   ]
  },
  {
   "cell_type": "code",
   "execution_count": 65,
   "metadata": {
    "execution": {
     "iopub.execute_input": "2022-07-17T08:30:02.898876Z",
     "iopub.status.busy": "2022-07-17T08:30:02.898447Z",
     "iopub.status.idle": "2022-07-17T08:30:02.905678Z",
     "shell.execute_reply": "2022-07-17T08:30:02.904878Z",
     "shell.execute_reply.started": "2022-07-17T08:30:02.898844Z"
    }
   },
   "outputs": [],
   "source": [
    "def naural_natwork():\n",
    "    model = Sequential()\n",
    "    model.add(Dense(512, activation='relu', input_shape=(X_arr.shape[1],)))\n",
    "    model.add(Dense(256, activation='relu'))\n",
    "    model.add(Dense(128, activation='relu'))\n",
    "    model.add(Dense(7, activation='softmax'))\n",
    "    \n",
    "    return model"
   ]
  },
  {
   "cell_type": "code",
   "execution_count": 66,
   "metadata": {
    "execution": {
     "iopub.execute_input": "2022-07-17T08:30:10.968085Z",
     "iopub.status.busy": "2022-07-17T08:30:10.967745Z",
     "iopub.status.idle": "2022-07-17T08:30:52.553310Z",
     "shell.execute_reply": "2022-07-17T08:30:52.551990Z",
     "shell.execute_reply.started": "2022-07-17T08:30:10.968061Z"
    }
   },
   "outputs": [
    {
     "name": "stdout",
     "output_type": "stream",
     "text": [
      "Epoch 1/100\n",
      "37/37 [==============================] - 1s 11ms/step - loss: 1.7771 - accuracy: 0.3276 - val_loss: 1.3565 - val_accuracy: 0.5345\n",
      "Epoch 2/100\n",
      "37/37 [==============================] - 0s 7ms/step - loss: 1.0489 - accuracy: 0.6508 - val_loss: 0.7850 - val_accuracy: 0.6966\n",
      "Epoch 3/100\n",
      "37/37 [==============================] - 0s 6ms/step - loss: 0.7338 - accuracy: 0.7476 - val_loss: 0.6300 - val_accuracy: 0.7586\n",
      "Epoch 4/100\n",
      "37/37 [==============================] - 0s 6ms/step - loss: 0.6142 - accuracy: 0.7770 - val_loss: 0.4215 - val_accuracy: 0.8793\n",
      "Epoch 5/100\n",
      "37/37 [==============================] - 0s 7ms/step - loss: 0.3827 - accuracy: 0.8799 - val_loss: 0.5320 - val_accuracy: 0.7931\n",
      "Epoch 6/100\n",
      "37/37 [==============================] - 0s 6ms/step - loss: 0.3212 - accuracy: 0.8954 - val_loss: 0.3335 - val_accuracy: 0.8724\n",
      "Epoch 7/100\n",
      "37/37 [==============================] - 0s 6ms/step - loss: 0.2820 - accuracy: 0.9041 - val_loss: 0.3433 - val_accuracy: 0.8828\n",
      "Epoch 8/100\n",
      "37/37 [==============================] - 0s 5ms/step - loss: 0.2326 - accuracy: 0.9153 - val_loss: 0.3211 - val_accuracy: 0.8931\n",
      "Epoch 9/100\n",
      "37/37 [==============================] - 0s 5ms/step - loss: 0.1994 - accuracy: 0.9283 - val_loss: 0.2269 - val_accuracy: 0.9000\n",
      "Epoch 10/100\n",
      "37/37 [==============================] - 0s 6ms/step - loss: 0.2083 - accuracy: 0.9153 - val_loss: 0.2057 - val_accuracy: 0.9034\n",
      "Epoch 11/100\n",
      "37/37 [==============================] - 0s 6ms/step - loss: 0.1622 - accuracy: 0.9455 - val_loss: 0.2095 - val_accuracy: 0.9034\n",
      "Epoch 12/100\n",
      "37/37 [==============================] - 0s 6ms/step - loss: 0.1517 - accuracy: 0.9386 - val_loss: 0.2159 - val_accuracy: 0.9000\n",
      "Epoch 13/100\n",
      "37/37 [==============================] - 0s 6ms/step - loss: 0.1670 - accuracy: 0.9326 - val_loss: 0.2806 - val_accuracy: 0.8759\n",
      "Epoch 14/100\n",
      "37/37 [==============================] - 0s 6ms/step - loss: 0.1962 - accuracy: 0.9283 - val_loss: 0.2109 - val_accuracy: 0.9000\n",
      "Epoch 15/100\n",
      "37/37 [==============================] - 0s 7ms/step - loss: 0.1859 - accuracy: 0.9248 - val_loss: 0.1542 - val_accuracy: 0.9345\n",
      "Epoch 16/100\n",
      "37/37 [==============================] - 0s 6ms/step - loss: 0.1304 - accuracy: 0.9516 - val_loss: 0.1488 - val_accuracy: 0.9310\n",
      "Epoch 17/100\n",
      "37/37 [==============================] - 0s 6ms/step - loss: 0.1829 - accuracy: 0.9257 - val_loss: 0.2397 - val_accuracy: 0.8966\n",
      "Epoch 18/100\n",
      "37/37 [==============================] - 0s 6ms/step - loss: 0.1646 - accuracy: 0.9360 - val_loss: 0.1960 - val_accuracy: 0.9448\n",
      "Epoch 19/100\n",
      "37/37 [==============================] - 0s 6ms/step - loss: 0.1270 - accuracy: 0.9542 - val_loss: 0.1391 - val_accuracy: 0.9310\n",
      "Epoch 20/100\n",
      "37/37 [==============================] - 0s 6ms/step - loss: 0.1037 - accuracy: 0.9706 - val_loss: 0.1522 - val_accuracy: 0.9345\n",
      "Epoch 21/100\n",
      "37/37 [==============================] - 0s 6ms/step - loss: 0.1373 - accuracy: 0.9395 - val_loss: 0.2052 - val_accuracy: 0.8966\n",
      "Epoch 22/100\n",
      "37/37 [==============================] - 0s 6ms/step - loss: 0.0974 - accuracy: 0.9689 - val_loss: 0.1038 - val_accuracy: 0.9586\n",
      "Epoch 23/100\n",
      "37/37 [==============================] - 0s 6ms/step - loss: 0.1188 - accuracy: 0.9507 - val_loss: 0.0947 - val_accuracy: 0.9690\n",
      "Epoch 24/100\n",
      "37/37 [==============================] - 0s 6ms/step - loss: 0.0916 - accuracy: 0.9680 - val_loss: 0.1134 - val_accuracy: 0.9586\n",
      "Epoch 25/100\n",
      "37/37 [==============================] - 0s 6ms/step - loss: 0.0831 - accuracy: 0.9689 - val_loss: 0.1036 - val_accuracy: 0.9586\n",
      "Epoch 26/100\n",
      "37/37 [==============================] - 0s 6ms/step - loss: 0.1157 - accuracy: 0.9525 - val_loss: 0.1199 - val_accuracy: 0.9552\n",
      "Epoch 27/100\n",
      "37/37 [==============================] - 0s 6ms/step - loss: 0.1022 - accuracy: 0.9654 - val_loss: 0.1341 - val_accuracy: 0.9517\n",
      "Epoch 28/100\n",
      "37/37 [==============================] - 0s 7ms/step - loss: 0.0842 - accuracy: 0.9680 - val_loss: 0.1056 - val_accuracy: 0.9621\n",
      "Epoch 29/100\n",
      "37/37 [==============================] - 0s 6ms/step - loss: 0.1262 - accuracy: 0.9594 - val_loss: 0.1476 - val_accuracy: 0.9517\n",
      "Epoch 30/100\n",
      "37/37 [==============================] - 0s 6ms/step - loss: 0.1035 - accuracy: 0.9602 - val_loss: 0.1310 - val_accuracy: 0.9483\n",
      "Epoch 31/100\n",
      "37/37 [==============================] - 0s 6ms/step - loss: 0.0963 - accuracy: 0.9611 - val_loss: 0.0977 - val_accuracy: 0.9690\n",
      "Epoch 32/100\n",
      "37/37 [==============================] - 0s 6ms/step - loss: 0.0808 - accuracy: 0.9663 - val_loss: 0.0592 - val_accuracy: 0.9759\n",
      "Epoch 33/100\n",
      "37/37 [==============================] - 0s 5ms/step - loss: 0.0524 - accuracy: 0.9818 - val_loss: 0.1063 - val_accuracy: 0.9759\n",
      "Epoch 34/100\n",
      "37/37 [==============================] - 0s 5ms/step - loss: 0.0547 - accuracy: 0.9810 - val_loss: 0.1025 - val_accuracy: 0.9759\n",
      "Epoch 35/100\n",
      "37/37 [==============================] - 0s 5ms/step - loss: 0.0670 - accuracy: 0.9715 - val_loss: 0.1432 - val_accuracy: 0.9414\n",
      "Epoch 36/100\n",
      "37/37 [==============================] - 0s 6ms/step - loss: 0.0631 - accuracy: 0.9810 - val_loss: 0.0502 - val_accuracy: 0.9931\n",
      "Epoch 37/100\n",
      "37/37 [==============================] - 0s 6ms/step - loss: 0.0441 - accuracy: 0.9844 - val_loss: 0.1122 - val_accuracy: 0.9724\n",
      "Epoch 38/100\n",
      "37/37 [==============================] - 0s 6ms/step - loss: 0.0729 - accuracy: 0.9732 - val_loss: 0.0735 - val_accuracy: 0.9690\n",
      "Epoch 39/100\n",
      "37/37 [==============================] - 0s 6ms/step - loss: 0.0716 - accuracy: 0.9697 - val_loss: 0.1090 - val_accuracy: 0.9655\n",
      "Epoch 40/100\n",
      "37/37 [==============================] - 0s 6ms/step - loss: 0.0549 - accuracy: 0.9827 - val_loss: 0.0683 - val_accuracy: 0.9759\n",
      "Epoch 41/100\n",
      "37/37 [==============================] - 0s 6ms/step - loss: 0.0527 - accuracy: 0.9810 - val_loss: 0.0479 - val_accuracy: 0.9897\n",
      "Epoch 42/100\n",
      "37/37 [==============================] - 0s 6ms/step - loss: 0.0356 - accuracy: 0.9896 - val_loss: 0.0403 - val_accuracy: 0.9862\n",
      "Epoch 43/100\n",
      "37/37 [==============================] - 0s 6ms/step - loss: 0.0393 - accuracy: 0.9862 - val_loss: 0.0655 - val_accuracy: 0.9793\n",
      "Epoch 44/100\n",
      "37/37 [==============================] - 0s 6ms/step - loss: 0.0420 - accuracy: 0.9853 - val_loss: 0.0453 - val_accuracy: 0.9897\n",
      "Epoch 45/100\n",
      "37/37 [==============================] - 0s 6ms/step - loss: 0.0553 - accuracy: 0.9801 - val_loss: 0.0804 - val_accuracy: 0.9552\n",
      "Epoch 46/100\n",
      "37/37 [==============================] - 0s 6ms/step - loss: 0.1103 - accuracy: 0.9525 - val_loss: 0.0812 - val_accuracy: 0.9759\n",
      "Epoch 47/100\n",
      "37/37 [==============================] - 0s 7ms/step - loss: 0.0619 - accuracy: 0.9784 - val_loss: 0.0846 - val_accuracy: 0.9759\n",
      "Epoch 48/100\n",
      "37/37 [==============================] - 0s 7ms/step - loss: 0.0855 - accuracy: 0.9602 - val_loss: 0.0657 - val_accuracy: 0.9862\n",
      "Epoch 49/100\n",
      "37/37 [==============================] - 0s 7ms/step - loss: 0.0451 - accuracy: 0.9818 - val_loss: 0.0709 - val_accuracy: 0.9724\n",
      "Epoch 50/100\n",
      "37/37 [==============================] - 0s 7ms/step - loss: 0.0341 - accuracy: 0.9870 - val_loss: 0.0513 - val_accuracy: 0.9793\n",
      "Epoch 51/100\n",
      "37/37 [==============================] - 0s 7ms/step - loss: 0.0413 - accuracy: 0.9853 - val_loss: 0.0435 - val_accuracy: 0.9897\n",
      "Epoch 52/100\n",
      "37/37 [==============================] - 0s 7ms/step - loss: 0.0460 - accuracy: 0.9870 - val_loss: 0.0897 - val_accuracy: 0.9724\n",
      "Epoch 53/100\n",
      "37/37 [==============================] - 0s 7ms/step - loss: 0.0490 - accuracy: 0.9801 - val_loss: 0.0646 - val_accuracy: 0.9793\n",
      "Epoch 54/100\n",
      "37/37 [==============================] - 0s 6ms/step - loss: 0.0404 - accuracy: 0.9844 - val_loss: 0.1083 - val_accuracy: 0.9690\n",
      "Epoch 55/100\n",
      "37/37 [==============================] - 0s 7ms/step - loss: 0.0503 - accuracy: 0.9818 - val_loss: 0.0548 - val_accuracy: 0.9759\n",
      "Epoch 56/100\n",
      "37/37 [==============================] - 0s 7ms/step - loss: 0.0298 - accuracy: 0.9896 - val_loss: 0.0477 - val_accuracy: 0.9828\n",
      "Epoch 57/100\n",
      "37/37 [==============================] - 0s 6ms/step - loss: 0.0428 - accuracy: 0.9836 - val_loss: 0.1001 - val_accuracy: 0.9759\n",
      "Epoch 58/100\n",
      "37/37 [==============================] - 0s 7ms/step - loss: 0.0354 - accuracy: 0.9870 - val_loss: 0.0826 - val_accuracy: 0.9759\n",
      "Epoch 59/100\n",
      "37/37 [==============================] - 0s 8ms/step - loss: 0.0591 - accuracy: 0.9758 - val_loss: 0.0481 - val_accuracy: 0.9897\n",
      "Epoch 60/100\n",
      "37/37 [==============================] - 0s 7ms/step - loss: 0.0325 - accuracy: 0.9888 - val_loss: 0.0380 - val_accuracy: 0.9931\n",
      "Epoch 61/100\n",
      "37/37 [==============================] - 0s 7ms/step - loss: 0.0279 - accuracy: 0.9888 - val_loss: 0.0447 - val_accuracy: 0.9862\n",
      "Epoch 62/100\n",
      "37/37 [==============================] - 0s 7ms/step - loss: 0.0595 - accuracy: 0.9818 - val_loss: 0.0433 - val_accuracy: 0.9862\n",
      "Epoch 63/100\n",
      "37/37 [==============================] - 0s 7ms/step - loss: 0.0315 - accuracy: 0.9896 - val_loss: 0.0753 - val_accuracy: 0.9759\n",
      "Epoch 64/100\n",
      "37/37 [==============================] - 0s 7ms/step - loss: 0.0343 - accuracy: 0.9870 - val_loss: 0.0325 - val_accuracy: 0.9966\n",
      "Epoch 65/100\n",
      "37/37 [==============================] - 0s 6ms/step - loss: 0.0201 - accuracy: 0.9914 - val_loss: 0.0387 - val_accuracy: 0.9897\n",
      "Epoch 66/100\n",
      "37/37 [==============================] - 0s 7ms/step - loss: 0.0269 - accuracy: 0.9914 - val_loss: 0.0438 - val_accuracy: 0.9793\n",
      "Epoch 67/100\n",
      "37/37 [==============================] - 0s 7ms/step - loss: 0.0330 - accuracy: 0.9879 - val_loss: 0.0295 - val_accuracy: 0.9966\n",
      "Epoch 68/100\n",
      "37/37 [==============================] - 0s 7ms/step - loss: 0.0271 - accuracy: 0.9870 - val_loss: 0.0331 - val_accuracy: 0.9931\n",
      "Epoch 69/100\n",
      "37/37 [==============================] - 0s 7ms/step - loss: 0.0607 - accuracy: 0.9741 - val_loss: 0.2001 - val_accuracy: 0.9552\n",
      "Epoch 70/100\n",
      "37/37 [==============================] - 0s 7ms/step - loss: 0.1179 - accuracy: 0.9576 - val_loss: 0.0831 - val_accuracy: 0.9724\n",
      "Epoch 71/100\n",
      "37/37 [==============================] - 0s 7ms/step - loss: 0.0487 - accuracy: 0.9810 - val_loss: 0.0508 - val_accuracy: 0.9828\n",
      "Epoch 72/100\n",
      "37/37 [==============================] - 0s 7ms/step - loss: 0.0428 - accuracy: 0.9844 - val_loss: 0.0315 - val_accuracy: 0.9966\n",
      "Epoch 73/100\n",
      "37/37 [==============================] - 0s 7ms/step - loss: 0.0279 - accuracy: 0.9862 - val_loss: 0.0487 - val_accuracy: 0.9862\n",
      "Epoch 74/100\n",
      "37/37 [==============================] - 0s 7ms/step - loss: 0.0224 - accuracy: 0.9922 - val_loss: 0.0709 - val_accuracy: 0.9724\n",
      "Epoch 75/100\n",
      "37/37 [==============================] - 0s 6ms/step - loss: 0.0410 - accuracy: 0.9870 - val_loss: 0.0496 - val_accuracy: 0.9828\n",
      "Epoch 76/100\n",
      "37/37 [==============================] - 0s 7ms/step - loss: 0.0375 - accuracy: 0.9827 - val_loss: 0.0310 - val_accuracy: 0.9931\n",
      "Epoch 77/100\n",
      "37/37 [==============================] - 0s 6ms/step - loss: 0.0516 - accuracy: 0.9836 - val_loss: 0.1431 - val_accuracy: 0.9552\n",
      "Epoch 78/100\n",
      "37/37 [==============================] - 0s 6ms/step - loss: 0.0407 - accuracy: 0.9844 - val_loss: 0.0570 - val_accuracy: 0.9759\n",
      "Epoch 79/100\n",
      "37/37 [==============================] - 0s 6ms/step - loss: 0.0234 - accuracy: 0.9914 - val_loss: 0.0338 - val_accuracy: 0.9897\n",
      "Epoch 80/100\n",
      "37/37 [==============================] - 0s 7ms/step - loss: 0.0281 - accuracy: 0.9914 - val_loss: 0.0460 - val_accuracy: 0.9828\n",
      "Epoch 81/100\n",
      "37/37 [==============================] - 0s 7ms/step - loss: 0.0221 - accuracy: 0.9905 - val_loss: 0.0289 - val_accuracy: 0.9966\n",
      "Epoch 82/100\n",
      "37/37 [==============================] - 0s 7ms/step - loss: 0.0182 - accuracy: 0.9922 - val_loss: 0.0294 - val_accuracy: 0.9931\n",
      "Epoch 83/100\n",
      "37/37 [==============================] - 0s 6ms/step - loss: 0.0152 - accuracy: 0.9965 - val_loss: 0.0385 - val_accuracy: 0.9931\n",
      "Epoch 84/100\n",
      "37/37 [==============================] - 0s 6ms/step - loss: 0.0148 - accuracy: 0.9948 - val_loss: 0.0350 - val_accuracy: 0.9931\n",
      "Epoch 85/100\n",
      "37/37 [==============================] - 0s 6ms/step - loss: 0.0165 - accuracy: 0.9957 - val_loss: 0.0280 - val_accuracy: 0.9931\n",
      "Epoch 86/100\n",
      "37/37 [==============================] - 0s 6ms/step - loss: 0.0156 - accuracy: 0.9939 - val_loss: 0.0229 - val_accuracy: 0.9966\n",
      "Epoch 87/100\n",
      "37/37 [==============================] - 0s 6ms/step - loss: 0.0255 - accuracy: 0.9862 - val_loss: 0.0373 - val_accuracy: 0.9897\n",
      "Epoch 88/100\n",
      "37/37 [==============================] - 0s 6ms/step - loss: 0.0160 - accuracy: 0.9931 - val_loss: 0.0278 - val_accuracy: 0.9966\n",
      "Epoch 89/100\n",
      "37/37 [==============================] - 0s 6ms/step - loss: 0.0197 - accuracy: 0.9931 - val_loss: 0.0480 - val_accuracy: 0.9828\n",
      "Epoch 90/100\n",
      "37/37 [==============================] - 0s 11ms/step - loss: 0.0374 - accuracy: 0.9853 - val_loss: 0.0546 - val_accuracy: 0.9862\n",
      "Epoch 91/100\n",
      "37/37 [==============================] - 0s 12ms/step - loss: 0.0532 - accuracy: 0.9784 - val_loss: 0.0575 - val_accuracy: 0.9862\n",
      "Epoch 92/100\n",
      "37/37 [==============================] - 0s 6ms/step - loss: 0.0238 - accuracy: 0.9914 - val_loss: 0.0395 - val_accuracy: 0.9897\n",
      "Epoch 93/100\n",
      "37/37 [==============================] - 0s 6ms/step - loss: 0.0193 - accuracy: 0.9939 - val_loss: 0.0557 - val_accuracy: 0.9897\n",
      "Epoch 94/100\n",
      "37/37 [==============================] - 0s 7ms/step - loss: 0.0231 - accuracy: 0.9922 - val_loss: 0.0527 - val_accuracy: 0.9862\n",
      "Epoch 95/100\n",
      "37/37 [==============================] - 0s 6ms/step - loss: 0.0197 - accuracy: 0.9896 - val_loss: 0.0561 - val_accuracy: 0.9897\n",
      "Epoch 96/100\n",
      "37/37 [==============================] - 0s 6ms/step - loss: 0.0211 - accuracy: 0.9922 - val_loss: 0.0506 - val_accuracy: 0.9931\n",
      "Epoch 97/100\n",
      "37/37 [==============================] - 0s 6ms/step - loss: 0.0242 - accuracy: 0.9914 - val_loss: 0.0355 - val_accuracy: 0.9862\n",
      "Epoch 98/100\n",
      "37/37 [==============================] - 0s 6ms/step - loss: 0.0172 - accuracy: 0.9931 - val_loss: 0.0734 - val_accuracy: 0.9828\n",
      "Epoch 99/100\n",
      "37/37 [==============================] - 0s 6ms/step - loss: 0.0213 - accuracy: 0.9931 - val_loss: 0.0971 - val_accuracy: 0.9793\n",
      "Epoch 100/100\n",
      "37/37 [==============================] - 0s 7ms/step - loss: 0.0186 - accuracy: 0.9939 - val_loss: 0.0245 - val_accuracy: 0.9931\n"
     ]
    },
    {
     "data": {
      "text/plain": [
       "<keras.callbacks.History at 0x7f5ddc2253d0>"
      ]
     },
     "execution_count": 66,
     "metadata": {},
     "output_type": "execute_result"
    }
   ],
   "source": [
    "model = naural_natwork()\n",
    "\n",
    "# compiling the model\n",
    "model.compile(optimizer='adam', \n",
    "              loss='categorical_crossentropy', \n",
    "              metrics=['accuracy'])\n",
    "\n",
    "# setting a callback for controlling model's performance\n",
    "callback = EarlyStopping(monitor='val_accuracy', \n",
    "                                   mode='max', # don't minimize the accuracy!\n",
    "                                   patience=10,\n",
    "                                   restore_best_weights=True)\n",
    "\n",
    "\n",
    "# fitting the model to training data\n",
    "model.fit(X_train, Y_train, \n",
    "          epochs=100, \n",
    "          validation_data=(X_test, Y_test), verbose=1)"
   ]
  },
  {
   "cell_type": "code",
   "execution_count": 79,
   "metadata": {
    "execution": {
     "iopub.execute_input": "2022-07-17T08:46:16.056113Z",
     "iopub.status.busy": "2022-07-17T08:46:16.055739Z",
     "iopub.status.idle": "2022-07-17T08:46:16.062964Z",
     "shell.execute_reply": "2022-07-17T08:46:16.061762Z",
     "shell.execute_reply.started": "2022-07-17T08:46:16.056088Z"
    }
   },
   "outputs": [
    {
     "name": "stdout",
     "output_type": "stream",
     "text": [
      "Model: \"sequential_7\"\n",
      "_________________________________________________________________\n",
      "Layer (type)                 Output Shape              Param #   \n",
      "=================================================================\n",
      "dense_21 (Dense)             (None, 512)               12288     \n",
      "_________________________________________________________________\n",
      "dense_22 (Dense)             (None, 256)               131328    \n",
      "_________________________________________________________________\n",
      "dense_23 (Dense)             (None, 128)               32896     \n",
      "_________________________________________________________________\n",
      "dense_24 (Dense)             (None, 7)                 903       \n",
      "=================================================================\n",
      "Total params: 177,415\n",
      "Trainable params: 177,415\n",
      "Non-trainable params: 0\n",
      "_________________________________________________________________\n"
     ]
    }
   ],
   "source": [
    "model.summary()"
   ]
  },
  {
   "cell_type": "markdown",
   "metadata": {},
   "source": [
    "### Visualizing Model's Performance of First DNN"
   ]
  },
  {
   "cell_type": "code",
   "execution_count": 72,
   "metadata": {
    "execution": {
     "iopub.execute_input": "2022-07-17T08:43:19.865933Z",
     "iopub.status.busy": "2022-07-17T08:43:19.865548Z",
     "iopub.status.idle": "2022-07-17T08:43:19.873683Z",
     "shell.execute_reply": "2022-07-17T08:43:19.872182Z",
     "shell.execute_reply.started": "2022-07-17T08:43:19.865905Z"
    }
   },
   "outputs": [
    {
     "data": {
      "text/plain": [
       "dict"
      ]
     },
     "execution_count": 72,
     "metadata": {},
     "output_type": "execute_result"
    }
   ],
   "source": [
    "hist = model.history.history"
   ]
  },
  {
   "cell_type": "code",
   "execution_count": 73,
   "metadata": {
    "execution": {
     "iopub.execute_input": "2022-07-17T08:43:54.288466Z",
     "iopub.status.busy": "2022-07-17T08:43:54.288136Z",
     "iopub.status.idle": "2022-07-17T08:43:54.294080Z",
     "shell.execute_reply": "2022-07-17T08:43:54.293319Z",
     "shell.execute_reply.started": "2022-07-17T08:43:54.288441Z"
    }
   },
   "outputs": [
    {
     "data": {
      "text/plain": [
       "dict_keys(['loss', 'accuracy', 'val_loss', 'val_accuracy'])"
      ]
     },
     "execution_count": 73,
     "metadata": {},
     "output_type": "execute_result"
    }
   ],
   "source": [
    "hist.keys()"
   ]
  },
  {
   "cell_type": "code",
   "execution_count": 75,
   "metadata": {
    "execution": {
     "iopub.execute_input": "2022-07-17T08:44:35.576885Z",
     "iopub.status.busy": "2022-07-17T08:44:35.576547Z",
     "iopub.status.idle": "2022-07-17T08:44:35.582492Z",
     "shell.execute_reply": "2022-07-17T08:44:35.580512Z",
     "shell.execute_reply.started": "2022-07-17T08:44:35.576860Z"
    }
   },
   "outputs": [],
   "source": [
    "acc, val_acc = hist['accuracy'], hist['val_accuracy']\n",
    "loss = hist['loss']\n",
    "val_loss = hist['val_loss']"
   ]
  },
  {
   "cell_type": "code",
   "execution_count": 82,
   "metadata": {
    "execution": {
     "iopub.execute_input": "2022-07-17T08:47:35.679818Z",
     "iopub.status.busy": "2022-07-17T08:47:35.679409Z",
     "iopub.status.idle": "2022-07-17T08:47:36.082795Z",
     "shell.execute_reply": "2022-07-17T08:47:36.081232Z",
     "shell.execute_reply.started": "2022-07-17T08:47:35.679787Z"
    }
   },
   "outputs": [
    {
     "name": "stdout",
     "output_type": "stream",
     "text": [
      "\n"
     ]
    },
    {
     "data": {
      "image/png": "[encoded data removed]",
      "text/plain": [
       "<Figure size 576x576 with 2 Axes>"
      ]
     },
     "metadata": {},
     "output_type": "display_data"
    }
   ],
   "source": [
    "plt.figure(figsize=(8, 8))\n",
    "plt.subplot(2, 1, 1)\n",
    "plt.plot(acc, label='Training Accuracy')\n",
    "plt.plot(val_acc, label='Validation Accuracy')\n",
    "plt.ylim([0, 1])\n",
    "plt.legend(loc='lower right')\n",
    "plt.title('Training and Validation Accuracy (Deep Neural Network V1)')\n",
    "\n",
    "print('')\n",
    "\n",
    "plt.subplot(2, 1, 2)\n",
    "plt.plot(loss, label='Training Loss')\n",
    "plt.plot(val_loss, label='Validation Loss')\n",
    "plt.ylim([0, 1.0])\n",
    "\n",
    "plt.legend(loc='upper right')\n",
    "plt.title('Training and Validation Loss(Deep Neural Network V2)')\n",
    "plt.xlabel('epoch')\n",
    "plt.show()"
   ]
  },
  {
   "cell_type": "markdown",
   "metadata": {},
   "source": [
    "### DNN with Second Architecture\n",
    "Now, we'll implement another deep neural network containing a different architcure. "
   ]
  },
  {
   "cell_type": "code",
   "execution_count": 87,
   "metadata": {
    "execution": {
     "iopub.execute_input": "2022-07-17T08:51:51.522770Z",
     "iopub.status.busy": "2022-07-17T08:51:51.522407Z",
     "iopub.status.idle": "2022-07-17T08:51:51.530067Z",
     "shell.execute_reply": "2022-07-17T08:51:51.529033Z",
     "shell.execute_reply.started": "2022-07-17T08:51:51.522741Z"
    }
   },
   "outputs": [],
   "source": [
    "def neural_network_2():\n",
    "    model = Sequential()\n",
    "    model.add(Dense(256, activation='relu', input_shape=(X_arr.shape[1],)))\n",
    "    model.add(Dense(128, activation='relu'))\n",
    "    model.add(Dense(64, activation='relu'))\n",
    "    model.add(Dense(7, activation='softmax'))\n",
    "    \n",
    "    return model"
   ]
  },
  {
   "cell_type": "code",
   "execution_count": 88,
   "metadata": {
    "execution": {
     "iopub.execute_input": "2022-07-17T08:51:53.546667Z",
     "iopub.status.busy": "2022-07-17T08:51:53.546270Z",
     "iopub.status.idle": "2022-07-17T08:51:53.589199Z",
     "shell.execute_reply": "2022-07-17T08:51:53.588308Z",
     "shell.execute_reply.started": "2022-07-17T08:51:53.546639Z"
    }
   },
   "outputs": [
    {
     "name": "stdout",
     "output_type": "stream",
     "text": [
      "Model: \"sequential_8\"\n",
      "_________________________________________________________________\n",
      "Layer (type)                 Output Shape              Param #   \n",
      "=================================================================\n",
      "dense_25 (Dense)             (None, 256)               6144      \n",
      "_________________________________________________________________\n",
      "dense_26 (Dense)             (None, 128)               32896     \n",
      "_________________________________________________________________\n",
      "dense_27 (Dense)             (None, 64)                8256      \n",
      "_________________________________________________________________\n",
      "dense_28 (Dense)             (None, 7)                 455       \n",
      "=================================================================\n",
      "Total params: 47,751\n",
      "Trainable params: 47,751\n",
      "Non-trainable params: 0\n",
      "_________________________________________________________________\n"
     ]
    }
   ],
   "source": [
    "model_2 = neural_network_2()\n",
    "model_2.summary()"
   ]
  },
  {
   "cell_type": "code",
   "execution_count": 91,
   "metadata": {
    "execution": {
     "iopub.execute_input": "2022-07-17T08:54:30.635843Z",
     "iopub.status.busy": "2022-07-17T08:54:30.634822Z",
     "iopub.status.idle": "2022-07-17T08:54:50.183367Z",
     "shell.execute_reply": "2022-07-17T08:54:50.182251Z",
     "shell.execute_reply.started": "2022-07-17T08:54:30.635807Z"
    }
   },
   "outputs": [
    {
     "name": "stdout",
     "output_type": "stream",
     "text": [
      "Epoch 1/100\n",
      "37/37 [==============================] - 1s 10ms/step - loss: 1.8110 - accuracy: 0.2550 - val_loss: 1.5752 - val_accuracy: 0.5207\n",
      "Epoch 2/100\n",
      "37/37 [==============================] - 0s 5ms/step - loss: 1.3869 - accuracy: 0.4797 - val_loss: 1.1987 - val_accuracy: 0.5586\n",
      "Epoch 3/100\n",
      "37/37 [==============================] - 0s 5ms/step - loss: 1.0503 - accuracy: 0.6534 - val_loss: 1.0224 - val_accuracy: 0.6241\n",
      "Epoch 4/100\n",
      "37/37 [==============================] - 0s 5ms/step - loss: 0.8594 - accuracy: 0.7329 - val_loss: 0.6899 - val_accuracy: 0.7793\n",
      "Epoch 5/100\n",
      "37/37 [==============================] - 0s 5ms/step - loss: 0.6354 - accuracy: 0.7822 - val_loss: 0.6840 - val_accuracy: 0.7448\n",
      "Epoch 6/100\n",
      "37/37 [==============================] - 0s 5ms/step - loss: 0.5459 - accuracy: 0.8254 - val_loss: 0.4361 - val_accuracy: 0.8586\n",
      "Epoch 7/100\n",
      "37/37 [==============================] - 0s 7ms/step - loss: 0.4020 - accuracy: 0.8816 - val_loss: 0.4172 - val_accuracy: 0.8517\n",
      "Epoch 8/100\n",
      "37/37 [==============================] - 0s 5ms/step - loss: 0.3412 - accuracy: 0.8911 - val_loss: 0.3540 - val_accuracy: 0.8621\n",
      "Epoch 9/100\n",
      "37/37 [==============================] - 0s 5ms/step - loss: 0.2923 - accuracy: 0.9110 - val_loss: 0.3412 - val_accuracy: 0.8793\n",
      "Epoch 10/100\n",
      "37/37 [==============================] - 0s 5ms/step - loss: 0.2519 - accuracy: 0.9179 - val_loss: 0.3193 - val_accuracy: 0.9000\n",
      "Epoch 11/100\n",
      "37/37 [==============================] - 0s 5ms/step - loss: 0.2403 - accuracy: 0.9162 - val_loss: 0.3565 - val_accuracy: 0.8759\n",
      "Epoch 12/100\n",
      "37/37 [==============================] - 0s 5ms/step - loss: 0.2114 - accuracy: 0.9300 - val_loss: 0.2557 - val_accuracy: 0.9103\n",
      "Epoch 13/100\n",
      "37/37 [==============================] - 0s 5ms/step - loss: 0.1980 - accuracy: 0.9274 - val_loss: 0.2780 - val_accuracy: 0.8931\n",
      "Epoch 14/100\n",
      "37/37 [==============================] - 0s 5ms/step - loss: 0.2232 - accuracy: 0.9170 - val_loss: 0.3467 - val_accuracy: 0.8517\n",
      "Epoch 15/100\n",
      "37/37 [==============================] - 0s 4ms/step - loss: 0.2079 - accuracy: 0.9162 - val_loss: 0.3751 - val_accuracy: 0.8793\n",
      "Epoch 16/100\n",
      "37/37 [==============================] - 0s 4ms/step - loss: 0.2690 - accuracy: 0.8971 - val_loss: 0.3267 - val_accuracy: 0.8690\n",
      "Epoch 17/100\n",
      "37/37 [==============================] - 0s 4ms/step - loss: 0.1935 - accuracy: 0.9300 - val_loss: 0.2201 - val_accuracy: 0.8862\n",
      "Epoch 18/100\n",
      "37/37 [==============================] - 0s 4ms/step - loss: 0.1584 - accuracy: 0.9481 - val_loss: 0.1981 - val_accuracy: 0.9103\n",
      "Epoch 19/100\n",
      "37/37 [==============================] - 0s 4ms/step - loss: 0.1625 - accuracy: 0.9352 - val_loss: 0.1890 - val_accuracy: 0.9069\n",
      "Epoch 20/100\n",
      "37/37 [==============================] - 0s 5ms/step - loss: 0.1642 - accuracy: 0.9404 - val_loss: 0.2147 - val_accuracy: 0.8966\n",
      "Epoch 21/100\n",
      "37/37 [==============================] - 0s 5ms/step - loss: 0.1647 - accuracy: 0.9360 - val_loss: 0.1632 - val_accuracy: 0.9414\n",
      "Epoch 22/100\n",
      "37/37 [==============================] - 0s 5ms/step - loss: 0.1767 - accuracy: 0.9360 - val_loss: 0.2399 - val_accuracy: 0.9069\n",
      "Epoch 23/100\n",
      "37/37 [==============================] - 0s 6ms/step - loss: 0.1633 - accuracy: 0.9352 - val_loss: 0.2622 - val_accuracy: 0.8931\n",
      "Epoch 24/100\n",
      "37/37 [==============================] - 0s 5ms/step - loss: 0.1295 - accuracy: 0.9516 - val_loss: 0.2045 - val_accuracy: 0.9034\n",
      "Epoch 25/100\n",
      "37/37 [==============================] - 0s 5ms/step - loss: 0.1318 - accuracy: 0.9499 - val_loss: 0.1477 - val_accuracy: 0.9310\n",
      "Epoch 26/100\n",
      "37/37 [==============================] - 0s 5ms/step - loss: 0.1380 - accuracy: 0.9499 - val_loss: 0.1743 - val_accuracy: 0.9276\n",
      "Epoch 27/100\n",
      "37/37 [==============================] - 0s 5ms/step - loss: 0.1270 - accuracy: 0.9516 - val_loss: 0.1539 - val_accuracy: 0.9276\n",
      "Epoch 28/100\n",
      "37/37 [==============================] - 0s 5ms/step - loss: 0.1324 - accuracy: 0.9499 - val_loss: 0.1765 - val_accuracy: 0.9483\n",
      "Epoch 29/100\n",
      "37/37 [==============================] - 0s 5ms/step - loss: 0.1286 - accuracy: 0.9533 - val_loss: 0.1681 - val_accuracy: 0.9276\n",
      "Epoch 30/100\n",
      "37/37 [==============================] - 0s 5ms/step - loss: 0.1680 - accuracy: 0.9352 - val_loss: 0.1444 - val_accuracy: 0.9241\n",
      "Epoch 31/100\n",
      "37/37 [==============================] - 0s 5ms/step - loss: 0.1245 - accuracy: 0.9481 - val_loss: 0.1366 - val_accuracy: 0.9241\n",
      "Epoch 32/100\n",
      "37/37 [==============================] - 0s 6ms/step - loss: 0.1135 - accuracy: 0.9576 - val_loss: 0.1162 - val_accuracy: 0.9621\n",
      "Epoch 33/100\n",
      "37/37 [==============================] - 0s 5ms/step - loss: 0.1003 - accuracy: 0.9706 - val_loss: 0.1177 - val_accuracy: 0.9517\n",
      "Epoch 34/100\n",
      "37/37 [==============================] - 0s 6ms/step - loss: 0.1090 - accuracy: 0.9646 - val_loss: 0.1270 - val_accuracy: 0.9414\n",
      "Epoch 35/100\n",
      "37/37 [==============================] - 0s 6ms/step - loss: 0.1062 - accuracy: 0.9568 - val_loss: 0.1536 - val_accuracy: 0.9483\n",
      "Epoch 36/100\n",
      "37/37 [==============================] - 0s 5ms/step - loss: 0.1162 - accuracy: 0.9585 - val_loss: 0.1425 - val_accuracy: 0.9414\n",
      "Epoch 37/100\n",
      "37/37 [==============================] - 0s 5ms/step - loss: 0.0868 - accuracy: 0.9706 - val_loss: 0.1508 - val_accuracy: 0.9379\n",
      "Epoch 38/100\n",
      "37/37 [==============================] - 0s 5ms/step - loss: 0.0907 - accuracy: 0.9628 - val_loss: 0.1458 - val_accuracy: 0.9345\n",
      "Epoch 39/100\n",
      "37/37 [==============================] - 0s 5ms/step - loss: 0.0932 - accuracy: 0.9654 - val_loss: 0.0928 - val_accuracy: 0.9690\n",
      "Epoch 40/100\n",
      "37/37 [==============================] - 0s 5ms/step - loss: 0.1035 - accuracy: 0.9507 - val_loss: 0.1518 - val_accuracy: 0.9379\n",
      "Epoch 41/100\n",
      "37/37 [==============================] - 0s 5ms/step - loss: 0.1319 - accuracy: 0.9412 - val_loss: 0.1662 - val_accuracy: 0.9207\n",
      "Epoch 42/100\n",
      "37/37 [==============================] - 0s 4ms/step - loss: 0.1076 - accuracy: 0.9602 - val_loss: 0.1496 - val_accuracy: 0.9241\n",
      "Epoch 43/100\n",
      "37/37 [==============================] - 0s 4ms/step - loss: 0.1292 - accuracy: 0.9507 - val_loss: 0.1109 - val_accuracy: 0.9379\n",
      "Epoch 44/100\n",
      "37/37 [==============================] - 0s 4ms/step - loss: 0.0872 - accuracy: 0.9697 - val_loss: 0.1038 - val_accuracy: 0.9517\n",
      "Epoch 45/100\n",
      "37/37 [==============================] - 0s 5ms/step - loss: 0.0791 - accuracy: 0.9663 - val_loss: 0.1201 - val_accuracy: 0.9379\n",
      "Epoch 46/100\n",
      "37/37 [==============================] - 0s 5ms/step - loss: 0.0781 - accuracy: 0.9749 - val_loss: 0.0758 - val_accuracy: 0.9793\n",
      "Epoch 47/100\n",
      "37/37 [==============================] - 0s 5ms/step - loss: 0.0847 - accuracy: 0.9680 - val_loss: 0.0864 - val_accuracy: 0.9793\n",
      "Epoch 48/100\n",
      "37/37 [==============================] - 0s 5ms/step - loss: 0.0660 - accuracy: 0.9775 - val_loss: 0.0938 - val_accuracy: 0.9621\n",
      "Epoch 49/100\n",
      "37/37 [==============================] - 0s 6ms/step - loss: 0.0668 - accuracy: 0.9723 - val_loss: 0.0939 - val_accuracy: 0.9655\n",
      "Epoch 50/100\n",
      "37/37 [==============================] - 0s 6ms/step - loss: 0.0783 - accuracy: 0.9689 - val_loss: 0.0845 - val_accuracy: 0.9621\n",
      "Epoch 51/100\n",
      "37/37 [==============================] - 0s 5ms/step - loss: 0.0882 - accuracy: 0.9654 - val_loss: 0.1177 - val_accuracy: 0.9586\n",
      "Epoch 52/100\n",
      "37/37 [==============================] - 0s 5ms/step - loss: 0.0796 - accuracy: 0.9715 - val_loss: 0.1044 - val_accuracy: 0.9690\n",
      "Epoch 53/100\n",
      "37/37 [==============================] - 0s 5ms/step - loss: 0.0618 - accuracy: 0.9775 - val_loss: 0.1166 - val_accuracy: 0.9586\n",
      "Epoch 54/100\n",
      "37/37 [==============================] - 0s 5ms/step - loss: 0.0788 - accuracy: 0.9715 - val_loss: 0.0815 - val_accuracy: 0.9690\n",
      "Epoch 55/100\n",
      "37/37 [==============================] - 0s 5ms/step - loss: 0.0589 - accuracy: 0.9784 - val_loss: 0.1118 - val_accuracy: 0.9448\n",
      "Epoch 56/100\n",
      "37/37 [==============================] - 0s 5ms/step - loss: 0.0622 - accuracy: 0.9758 - val_loss: 0.1455 - val_accuracy: 0.9483\n",
      "Epoch 57/100\n",
      "37/37 [==============================] - 0s 5ms/step - loss: 0.0606 - accuracy: 0.9775 - val_loss: 0.0688 - val_accuracy: 0.9724\n",
      "Epoch 58/100\n",
      "37/37 [==============================] - 0s 5ms/step - loss: 0.0604 - accuracy: 0.9784 - val_loss: 0.1009 - val_accuracy: 0.9621\n",
      "Epoch 59/100\n",
      "37/37 [==============================] - 0s 5ms/step - loss: 0.1042 - accuracy: 0.9637 - val_loss: 0.1542 - val_accuracy: 0.9517\n",
      "Epoch 60/100\n",
      "37/37 [==============================] - 0s 5ms/step - loss: 0.0738 - accuracy: 0.9741 - val_loss: 0.1576 - val_accuracy: 0.9414\n",
      "Epoch 61/100\n",
      "37/37 [==============================] - 0s 5ms/step - loss: 0.1606 - accuracy: 0.9421 - val_loss: 0.1035 - val_accuracy: 0.9483\n",
      "Epoch 62/100\n",
      "37/37 [==============================] - 0s 5ms/step - loss: 0.0711 - accuracy: 0.9758 - val_loss: 0.0627 - val_accuracy: 0.9793\n",
      "Epoch 63/100\n",
      "37/37 [==============================] - 0s 5ms/step - loss: 0.0461 - accuracy: 0.9844 - val_loss: 0.0810 - val_accuracy: 0.9690\n",
      "Epoch 64/100\n",
      "37/37 [==============================] - 0s 4ms/step - loss: 0.0394 - accuracy: 0.9853 - val_loss: 0.0541 - val_accuracy: 0.9724\n",
      "Epoch 65/100\n",
      "37/37 [==============================] - 0s 4ms/step - loss: 0.0447 - accuracy: 0.9862 - val_loss: 0.0509 - val_accuracy: 0.9724\n",
      "Epoch 66/100\n",
      "37/37 [==============================] - 0s 5ms/step - loss: 0.0450 - accuracy: 0.9888 - val_loss: 0.1030 - val_accuracy: 0.9586\n",
      "Epoch 67/100\n",
      "37/37 [==============================] - 0s 5ms/step - loss: 0.0471 - accuracy: 0.9818 - val_loss: 0.0737 - val_accuracy: 0.9655\n",
      "Epoch 68/100\n",
      "37/37 [==============================] - 0s 4ms/step - loss: 0.0372 - accuracy: 0.9870 - val_loss: 0.0576 - val_accuracy: 0.9793\n",
      "Epoch 69/100\n",
      "37/37 [==============================] - 0s 4ms/step - loss: 0.0408 - accuracy: 0.9888 - val_loss: 0.0591 - val_accuracy: 0.9759\n",
      "Epoch 70/100\n",
      "37/37 [==============================] - 0s 4ms/step - loss: 0.0612 - accuracy: 0.9784 - val_loss: 0.0875 - val_accuracy: 0.9621\n",
      "Epoch 71/100\n",
      "37/37 [==============================] - 0s 4ms/step - loss: 0.0489 - accuracy: 0.9827 - val_loss: 0.0610 - val_accuracy: 0.9759\n",
      "Epoch 72/100\n",
      "37/37 [==============================] - 0s 4ms/step - loss: 0.0386 - accuracy: 0.9862 - val_loss: 0.0494 - val_accuracy: 0.9759\n",
      "Epoch 73/100\n",
      "37/37 [==============================] - 0s 5ms/step - loss: 0.0360 - accuracy: 0.9862 - val_loss: 0.0685 - val_accuracy: 0.9759\n",
      "Epoch 74/100\n",
      "37/37 [==============================] - 0s 5ms/step - loss: 0.0392 - accuracy: 0.9862 - val_loss: 0.0482 - val_accuracy: 0.9793\n",
      "Epoch 75/100\n",
      "37/37 [==============================] - 0s 9ms/step - loss: 0.0354 - accuracy: 0.9888 - val_loss: 0.0804 - val_accuracy: 0.9759\n",
      "Epoch 76/100\n",
      "37/37 [==============================] - 0s 9ms/step - loss: 0.0334 - accuracy: 0.9888 - val_loss: 0.0801 - val_accuracy: 0.9690\n",
      "Epoch 77/100\n",
      "37/37 [==============================] - 0s 6ms/step - loss: 0.0334 - accuracy: 0.9879 - val_loss: 0.0446 - val_accuracy: 0.9862\n",
      "Epoch 78/100\n",
      "37/37 [==============================] - 0s 5ms/step - loss: 0.0335 - accuracy: 0.9862 - val_loss: 0.0763 - val_accuracy: 0.9724\n",
      "Epoch 79/100\n",
      "37/37 [==============================] - 0s 5ms/step - loss: 0.0538 - accuracy: 0.9767 - val_loss: 0.0556 - val_accuracy: 0.9828\n",
      "Epoch 80/100\n",
      "37/37 [==============================] - 0s 5ms/step - loss: 0.0666 - accuracy: 0.9758 - val_loss: 0.0554 - val_accuracy: 0.9897\n",
      "Epoch 81/100\n",
      "37/37 [==============================] - 0s 5ms/step - loss: 0.0343 - accuracy: 0.9888 - val_loss: 0.0469 - val_accuracy: 0.9862\n",
      "Epoch 82/100\n",
      "37/37 [==============================] - 0s 5ms/step - loss: 0.0349 - accuracy: 0.9914 - val_loss: 0.0587 - val_accuracy: 0.9793\n",
      "Epoch 83/100\n",
      "37/37 [==============================] - 0s 5ms/step - loss: 0.0333 - accuracy: 0.9896 - val_loss: 0.0516 - val_accuracy: 0.9690\n",
      "Epoch 84/100\n",
      "37/37 [==============================] - 0s 5ms/step - loss: 0.0276 - accuracy: 0.9922 - val_loss: 0.0653 - val_accuracy: 0.9759\n",
      "Epoch 85/100\n",
      "37/37 [==============================] - 0s 5ms/step - loss: 0.0348 - accuracy: 0.9853 - val_loss: 0.0458 - val_accuracy: 0.9897\n",
      "Epoch 86/100\n",
      "37/37 [==============================] - 0s 6ms/step - loss: 0.0285 - accuracy: 0.9888 - val_loss: 0.0786 - val_accuracy: 0.9862\n",
      "Epoch 87/100\n",
      "37/37 [==============================] - 0s 5ms/step - loss: 0.0293 - accuracy: 0.9905 - val_loss: 0.0633 - val_accuracy: 0.9828\n",
      "Epoch 88/100\n",
      "37/37 [==============================] - 0s 6ms/step - loss: 0.0237 - accuracy: 0.9905 - val_loss: 0.1233 - val_accuracy: 0.9690\n",
      "Epoch 89/100\n",
      "37/37 [==============================] - 0s 5ms/step - loss: 0.0242 - accuracy: 0.9939 - val_loss: 0.0585 - val_accuracy: 0.9897\n",
      "Epoch 90/100\n",
      "37/37 [==============================] - 0s 5ms/step - loss: 0.0300 - accuracy: 0.9896 - val_loss: 0.0505 - val_accuracy: 0.9862\n",
      "Epoch 91/100\n",
      "37/37 [==============================] - 0s 6ms/step - loss: 0.0389 - accuracy: 0.9862 - val_loss: 0.1038 - val_accuracy: 0.9759\n",
      "Epoch 92/100\n",
      "37/37 [==============================] - 0s 5ms/step - loss: 0.0306 - accuracy: 0.9879 - val_loss: 0.0526 - val_accuracy: 0.9897\n",
      "Epoch 93/100\n",
      "37/37 [==============================] - 0s 5ms/step - loss: 0.0357 - accuracy: 0.9844 - val_loss: 0.0861 - val_accuracy: 0.9793\n",
      "Epoch 94/100\n",
      "37/37 [==============================] - 0s 5ms/step - loss: 0.0380 - accuracy: 0.9844 - val_loss: 0.0725 - val_accuracy: 0.9862\n",
      "Epoch 95/100\n",
      "37/37 [==============================] - 0s 5ms/step - loss: 0.0330 - accuracy: 0.9853 - val_loss: 0.0501 - val_accuracy: 0.9862\n",
      "Epoch 96/100\n",
      "37/37 [==============================] - 0s 5ms/step - loss: 0.0477 - accuracy: 0.9862 - val_loss: 0.0442 - val_accuracy: 0.9793\n",
      "Epoch 97/100\n",
      "37/37 [==============================] - 0s 5ms/step - loss: 0.0259 - accuracy: 0.9914 - val_loss: 0.0528 - val_accuracy: 0.9828\n",
      "Epoch 98/100\n",
      "37/37 [==============================] - 0s 5ms/step - loss: 0.0170 - accuracy: 0.9939 - val_loss: 0.0622 - val_accuracy: 0.9724\n",
      "Epoch 99/100\n",
      "37/37 [==============================] - 0s 5ms/step - loss: 0.0273 - accuracy: 0.9896 - val_loss: 0.0595 - val_accuracy: 0.9793\n",
      "Epoch 100/100\n",
      "37/37 [==============================] - 0s 5ms/step - loss: 0.0324 - accuracy: 0.9870 - val_loss: 0.0352 - val_accuracy: 0.9897\n"
     ]
    },
    {
     "data": {
      "text/plain": [
       "<keras.callbacks.History at 0x7f5ddc225fd0>"
      ]
     },
     "execution_count": 91,
     "metadata": {},
     "output_type": "execute_result"
    }
   ],
   "source": [
    "# compiling the model\n",
    "model_2.compile(optimizer='adam', \n",
    "              loss='categorical_crossentropy', \n",
    "              metrics=['accuracy'])\n",
    "\n",
    "# setting a callback for controlling model's performance\n",
    "callback = EarlyStopping(monitor='val_accuracy', \n",
    "                                   mode='max',\n",
    "                                   patience=10,\n",
    "                                   restore_best_weights=True)\n",
    "\n",
    "\n",
    "# fitting the model to training data\n",
    "model_2.fit(X_train, Y_train, \n",
    "          epochs=100, \n",
    "          validation_data=(X_test, Y_test), \n",
    "          verbose=1)"
   ]
  },
  {
   "cell_type": "code",
   "execution_count": 92,
   "metadata": {
    "execution": {
     "iopub.execute_input": "2022-07-17T08:54:58.371558Z",
     "iopub.status.busy": "2022-07-17T08:54:58.371151Z",
     "iopub.status.idle": "2022-07-17T08:54:58.377026Z",
     "shell.execute_reply": "2022-07-17T08:54:58.376106Z",
     "shell.execute_reply.started": "2022-07-17T08:54:58.371528Z"
    }
   },
   "outputs": [],
   "source": [
    "hist_2 = model_2.history.history"
   ]
  },
  {
   "cell_type": "code",
   "execution_count": 93,
   "metadata": {
    "execution": {
     "iopub.execute_input": "2022-07-17T08:57:12.135368Z",
     "iopub.status.busy": "2022-07-17T08:57:12.134994Z",
     "iopub.status.idle": "2022-07-17T08:57:12.141398Z",
     "shell.execute_reply": "2022-07-17T08:57:12.140215Z",
     "shell.execute_reply.started": "2022-07-17T08:57:12.135340Z"
    }
   },
   "outputs": [],
   "source": [
    "acc_2, val_acc_2 = hist_2['accuracy'], hist_2['val_accuracy']\n",
    "loss_2 = hist_2['loss']\n",
    "val_loss_2 = hist_2['val_loss']"
   ]
  },
  {
   "cell_type": "code",
   "execution_count": 95,
   "metadata": {
    "execution": {
     "iopub.execute_input": "2022-07-17T09:05:25.358855Z",
     "iopub.status.busy": "2022-07-17T09:05:25.358171Z",
     "iopub.status.idle": "2022-07-17T09:05:25.757448Z",
     "shell.execute_reply": "2022-07-17T09:05:25.755916Z",
     "shell.execute_reply.started": "2022-07-17T09:05:25.358830Z"
    }
   },
   "outputs": [
    {
     "name": "stdout",
     "output_type": "stream",
     "text": [
      "\n"
     ]
    },
    {
     "data": {
      "image/png": "[encoded data removed]",
      "text/plain": [
       "<Figure size 576x576 with 2 Axes>"
      ]
     },
     "metadata": {},
     "output_type": "display_data"
    }
   ],
   "source": [
    "plt.figure(figsize=(8, 8))\n",
    "plt.subplot(2, 1, 1)\n",
    "plt.plot(acc_2, label='Training Accuracy of DNN 2')\n",
    "plt.plot(val_acc_2, label='Validation Accuracy of DNN 2')\n",
    "plt.ylim([0, 1])\n",
    "plt.legend(loc='lower right')\n",
    "plt.title('Training and Validation Accuracy (Deep Neural Network V2)')\n",
    "\n",
    "print('')\n",
    "\n",
    "plt.subplot(2, 1, 2)\n",
    "plt.plot(loss_2, label='Training Loss of DNN 2')\n",
    "plt.plot(val_loss_2, label='Validation Loss of DNN 2')\n",
    "plt.ylim([0, 1.0])\n",
    "\n",
    "plt.legend(loc='upper right')\n",
    "plt.title('Training and Validation Loss (Deep Neural Network V2)')\n",
    "plt.xlabel('epoch')\n",
    "plt.show()"
   ]
  },
  {
   "cell_type": "markdown",
   "metadata": {},
   "source": [
    "## Comparing Performances of Deep Neural Networks (DNNs)\n",
    "Now, we compare the performances (Loss & Accuracy) of both neural networks on testing dataset."
   ]
  },
  {
   "cell_type": "code",
   "execution_count": 104,
   "metadata": {
    "execution": {
     "iopub.execute_input": "2022-07-17T09:20:43.569301Z",
     "iopub.status.busy": "2022-07-17T09:20:43.568884Z",
     "iopub.status.idle": "2022-07-17T09:20:43.818582Z",
     "shell.execute_reply": "2022-07-17T09:20:43.817604Z",
     "shell.execute_reply.started": "2022-07-17T09:20:43.569254Z"
    }
   },
   "outputs": [
    {
     "name": "stdout",
     "output_type": "stream",
     "text": [
      "10/10 [==============================] - 0s 4ms/step - loss: 0.0438 - accuracy: 0.9897\n",
      "10/10 [==============================] - 0s 3ms/step - loss: 0.0352 - accuracy: 0.9897\n",
      "accuracy: 98.97%\n",
      "Accuracy of First Deep Neural Network: 98.97\n",
      "Loss of First Deep Neural Network: 0.0438\n",
      "\n",
      "accuracy: 98.97%\n",
      "Accuracy of Second Deep Neural Network: 98.97\n",
      "Loss of Second Deep Neural Network: 0.0352\n"
     ]
    }
   ],
   "source": [
    "# evaluate the model\n",
    "score = model.evaluate(X_test, Y_test)\n",
    "score_2 = model_2.evaluate(X_test, Y_test)\n",
    "\n",
    "# print accuracies of models \n",
    "print(\"%s: %.2f%%\" % (model.metrics_names[1], score[1] * 100))\n",
    "print('Accuracy of First Deep Neural Network: %.2f' % (score[1]*100))\n",
    "print('Loss of First Deep Neural Network: %.4f' % (score[0]))\n",
    "\n",
    "print('')\n",
    "\n",
    "print(\"%s: %.2f%%\" % (model_2.metrics_names[1], score_2[1] * 100))\n",
    "print('Accuracy of Second Deep Neural Network: %.2f' % (score_2[1]*100))\n",
    "print('Loss of Second Deep Neural Network: %.4f' % (score_2[0]))"
   ]
  },
  {
   "cell_type": "markdown",
   "metadata": {},
   "source": [
    "Both the neural networks performed exceptionally well on testing dataset, attaining an accuracy of 98.9%. The loss of both neural networks were extremely low on testing data, with first neural network attaining a loss of 0.0438 & second neural network attaining a loss of 0.0352."
   ]
  },
  {
   "cell_type": "code",
   "execution_count": 129,
   "metadata": {
    "execution": {
     "iopub.execute_input": "2022-07-17T09:35:24.718440Z",
     "iopub.status.busy": "2022-07-17T09:35:24.718054Z",
     "iopub.status.idle": "2022-07-17T09:35:24.895084Z",
     "shell.execute_reply": "2022-07-17T09:35:24.893816Z",
     "shell.execute_reply.started": "2022-07-17T09:35:24.718412Z"
    }
   },
   "outputs": [],
   "source": [
    "y_hat_nn1 = model.predict(X_test)\n",
    "pred_nn1 = np.argmax(model.predict(X_test), axis=1)\n",
    "Y_test_class_1 = np.argmax(Y_test, axis=1)"
   ]
  },
  {
   "cell_type": "code",
   "execution_count": 139,
   "metadata": {
    "execution": {
     "iopub.execute_input": "2022-07-17T09:48:41.377624Z",
     "iopub.status.busy": "2022-07-17T09:48:41.377185Z",
     "iopub.status.idle": "2022-07-17T09:48:41.387383Z",
     "shell.execute_reply": "2022-07-17T09:48:41.386699Z",
     "shell.execute_reply.started": "2022-07-17T09:48:41.377594Z"
    }
   },
   "outputs": [
    {
     "name": "stdout",
     "output_type": "stream",
     "text": [
      "Classification Report of Deep Neural Network 1\n",
      "              precision    recall  f1-score   support\n",
      "\n",
      "           0       1.00      1.00      1.00        47\n",
      "           1       0.91      1.00      0.95        31\n",
      "           2       1.00      1.00      1.00        40\n",
      "           3       1.00      1.00      1.00        41\n",
      "           4       1.00      1.00      1.00        36\n",
      "           5       1.00      0.94      0.97        52\n",
      "           6       1.00      1.00      1.00        43\n",
      "\n",
      "    accuracy                           0.99       290\n",
      "   macro avg       0.99      0.99      0.99       290\n",
      "weighted avg       0.99      0.99      0.99       290\n",
      "\n"
     ]
    }
   ],
   "source": [
    "print('Classification Report of Deep Neural Network 1')\n",
    "print(classification_report(Y_test_class_1, pred_nn1))"
   ]
  },
  {
   "cell_type": "code",
   "execution_count": 135,
   "metadata": {
    "execution": {
     "iopub.execute_input": "2022-07-17T09:46:47.022194Z",
     "iopub.status.busy": "2022-07-17T09:46:47.021769Z",
     "iopub.status.idle": "2022-07-17T09:46:47.272219Z",
     "shell.execute_reply": "2022-07-17T09:46:47.271271Z",
     "shell.execute_reply.started": "2022-07-17T09:46:47.022158Z"
    }
   },
   "outputs": [],
   "source": [
    "# classification report of second neural network\n",
    "y_hat_nn2 = model_2.predict(X_test)\n",
    "pred_nn2 = np.argmax(model_2.predict(X_test), axis=1)\n",
    "Y_test_class_2 = np.argmax(Y_test, axis=1)"
   ]
  },
  {
   "cell_type": "code",
   "execution_count": 138,
   "metadata": {
    "execution": {
     "iopub.execute_input": "2022-07-17T09:48:18.067924Z",
     "iopub.status.busy": "2022-07-17T09:48:18.067536Z",
     "iopub.status.idle": "2022-07-17T09:48:18.080066Z",
     "shell.execute_reply": "2022-07-17T09:48:18.079018Z",
     "shell.execute_reply.started": "2022-07-17T09:48:18.067888Z"
    }
   },
   "outputs": [
    {
     "name": "stdout",
     "output_type": "stream",
     "text": [
      "Classification Report of Deep Neural Network 2\n",
      "              precision    recall  f1-score   support\n",
      "\n",
      "           0       1.00      1.00      1.00        47\n",
      "           1       0.91      1.00      0.95        31\n",
      "           2       1.00      1.00      1.00        40\n",
      "           3       1.00      1.00      1.00        41\n",
      "           4       1.00      1.00      1.00        36\n",
      "           5       1.00      0.94      0.97        52\n",
      "           6       1.00      1.00      1.00        43\n",
      "\n",
      "    accuracy                           0.99       290\n",
      "   macro avg       0.99      0.99      0.99       290\n",
      "weighted avg       0.99      0.99      0.99       290\n",
      "\n"
     ]
    }
   ],
   "source": [
    "print('Classification Report of Deep Neural Network 2')\n",
    "print(classification_report(Y_test_class_2, pred_nn2))"
   ]
  }
 ],
 "metadata": {
  "kernelspec": {
   "display_name": "Python 3 (ipykernel)",
   "language": "python",
   "name": "python3"
  },
  "language_info": {
   "codemirror_mode": {
    "name": "ipython",
    "version": 3
   },
   "file_extension": ".py",
   "mimetype": "text/x-python",
   "name": "python",
   "nbconvert_exporter": "python",
   "pygments_lexer": "ipython3",
   "version": "3.11.3"
  }
 },
 "nbformat": 4,
 "nbformat_minor": 4
}
